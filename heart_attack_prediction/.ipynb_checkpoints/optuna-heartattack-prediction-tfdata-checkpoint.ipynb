{
 "cells": [
  {
   "cell_type": "markdown",
   "id": "4c6b160a-437a-42b0-9dd1-6b7c5dfdd2be",
   "metadata": {},
   "source": [
    "From https://www.kaggle.com/rashikrahmanpritom/heart-attack-analysis-prediction-dataset\n",
    "\n",
    "About this dataset\n",
    "Age : Age of the patient\n",
    "\n",
    "Sex : Sex of the patient\n",
    "\n",
    "exang: exercise induced angina (1 = yes; 0 = no)\n",
    "\n",
    "ca: number of major vessels (0-3)\n",
    "\n",
    "cp : Chest Pain type chest pain type\n",
    "\n",
    "Value 1: typical angina\n",
    "Value 2: atypical angina\n",
    "Value 3: non-anginal pain\n",
    "Value 4: asymptomatic\n",
    "trtbps : resting blood pressure (in mm Hg)\n",
    "\n",
    "chol : cholestoral in mg/dl fetched via BMI sensor\n",
    "\n",
    "fbs : (fasting blood sugar > 120 mg/dl) (1 = true; 0 = false)\n",
    "\n",
    "rest_ecg : resting electrocardiographic results\n",
    "\n",
    "Value 0: normal\n",
    "Value 1: having ST-T wave abnormality (T wave inversions and/or ST elevation or depression of > 0.05 mV)\n",
    "Value 2: showing probable or definite left ventricular hypertrophy by Estes' criteria\n",
    "\n",
    "thalach : maximum heart rate achieved\n",
    "\n",
    "target/output : 0= less chance of heart attack 1= more chance of heart attack"
   ]
  },
  {
   "cell_type": "code",
   "execution_count": 3,
   "id": "38e13f9c-7ede-4f37-bf6f-0c7ba3ecf144",
   "metadata": {},
   "outputs": [],
   "source": [
    "import pandas as pd\n",
    "from sklearn.model_selection import train_test_split\n",
    "import numpy as np\n",
    "import tensorflow as tf\n",
    "from tensorflow import keras\n",
    "from tensorflow.keras import layers\n",
    "import numpy as np\n",
    "from matplotlib import pyplot\n",
    "import sklearn as sk\n",
    "from tensorflow.keras.layers.experimental import preprocessing"
   ]
  },
  {
   "cell_type": "code",
   "execution_count": 4,
   "id": "6ea58f31-1f0e-48ee-add7-27fd83ded920",
   "metadata": {},
   "outputs": [],
   "source": [
    "# importing the data to a dataframe \n",
    "df = pd.read_csv(\"data/heart-attack-prediction/heart.csv\") \n",
    "SAMPLE_SIZE = len(df.index)"
   ]
  },
  {
   "cell_type": "code",
   "execution_count": 5,
   "id": "617139a5-a27b-433f-9a8d-a74d77e2ba07",
   "metadata": {},
   "outputs": [
    {
     "name": "stdout",
     "output_type": "stream",
     "text": [
      "   age  sex  cp  trtbps  chol  fbs  restecg  thalachh  exng  oldpeak  slp  \\\n",
      "0   63    1   3     145   233    1        0       150     0      2.3    0   \n",
      "1   37    1   2     130   250    0        1       187     0      3.5    0   \n",
      "2   41    0   1     130   204    0        0       172     0      1.4    2   \n",
      "3   56    1   1     120   236    0        1       178     0      0.8    2   \n",
      "4   57    0   0     120   354    0        1       163     1      0.6    2   \n",
      "\n",
      "   caa  thall  \n",
      "0    0      1  \n",
      "1    0      2  \n",
      "2    0      2  \n",
      "3    0      2  \n",
      "4    0      2  \n",
      "   output\n",
      "0       1\n",
      "1       1\n",
      "2       1\n",
      "3       1\n",
      "4       1\n",
      "shape of X (303, 13)\n",
      "shape of y (303, 1)\n"
     ]
    }
   ],
   "source": [
    "#Lets use output or target as preiction label\n",
    "\n",
    "# Specify the data 3 skip the quality out for y\n",
    "X= df.loc[:, :'thall']\n",
    "y = df.loc[:,['output']]\n",
    "print(X.head())\n",
    "print(y.head())\n",
    "print(\"shape of X\",X.to_numpy().shape)\n",
    "print(\"shape of y\",y.to_numpy().shape)"
   ]
  },
  {
   "cell_type": "code",
   "execution_count": 6,
   "id": "7775118f-8ef4-4efb-b3fa-28da742530a9",
   "metadata": {},
   "outputs": [],
   "source": [
    "# Scale the Feature data\n",
    "scaler = sk.preprocessing.StandardScaler().fit(X)\n",
    "X_s = scaler.transform(X)\n",
    "# Convert the  validation data \n",
    "num_classes = 2\n",
    "y_s = keras.utils.to_categorical(y, num_classes)"
   ]
  },
  {
   "cell_type": "code",
   "execution_count": 7,
   "id": "6cadc093-1919-4fc2-bac2-1c236161af82",
   "metadata": {},
   "outputs": [
    {
     "name": "stdout",
     "output_type": "stream",
     "text": [
      "shape of X_s (303, 13)\n",
      "shape of y_s (303, 2)\n",
      "X_s [-1.91531289  0.68100522  1.00257707 -0.09273778  0.07219949 -0.41763453\n",
      "  0.89896224  1.63347147 -0.69663055  2.12257273 -2.27457861 -0.71442887\n",
      " -0.51292188]\n",
      "y_s [0. 1.]\n",
      "shape of X_s (303, 13)\n",
      "shape of y_s (303, 2)\n",
      "X_s [-1.9153129   0.68100524  1.0025771  -0.09273779  0.07219949 -0.41763455\n",
      "  0.89896226  1.6334715  -0.69663054  2.1225727  -2.2745786  -0.71442884\n",
      " -0.51292187]\n",
      "y_s [0. 1.]\n"
     ]
    }
   ],
   "source": [
    "print(\"shape of X_s\",X_s.shape)\n",
    "print(\"shape of y_s\",y_s.shape)\n",
    "print(\"X_s\",X_s[1])\n",
    "print(\"y_s\",y_s[1])\n",
    "# Preprocess the data (these are NumPy arrays)\n",
    "X_s = X_s.reshape(SAMPLE_SIZE, 13).astype(\"float32\") \n",
    "y_s = y_s.reshape(SAMPLE_SIZE, 2).astype(\"float32\") \n",
    "print(\"shape of X_s\",X_s.shape)\n",
    "print(\"shape of y_s\",y_s.shape)\n",
    "print(\"X_s\",X_s[1])\n",
    "print(\"y_s\",y_s[1])"
   ]
  },
  {
   "cell_type": "code",
   "execution_count": 8,
   "id": "85b3b9b6-b6ef-4941-8993-35f7d633f9d1",
   "metadata": {},
   "outputs": [],
   "source": [
    "dataset = tf.data.Dataset.from_tensor_slices((X_s, y_s))"
   ]
  },
  {
   "cell_type": "code",
   "execution_count": 9,
   "id": "74c9282b-7ca7-4aa3-8e76-8196a1820f24",
   "metadata": {},
   "outputs": [
    {
     "name": "stdout",
     "output_type": "stream",
     "text": [
      "train_size= 212 val_size= 45 test_size= 45\n"
     ]
    }
   ],
   "source": [
    "train_size = int(0.7 * SAMPLE_SIZE)\n",
    "val_size = int(0.15 * SAMPLE_SIZE)\n",
    "test_size = int(0.15 * SAMPLE_SIZE)\n",
    "print(\"train_size=\",train_size,\"val_size=\",val_size,\"test_size=\",test_size)\n",
    "dataset = dataset.shuffle(SAMPLE_SIZE)\n",
    "\n",
    "train_dataset = dataset.take(train_size)\n",
    "test_dataset = dataset.skip(train_size)\n",
    "val_dataset = test_dataset.skip(val_size)\n",
    "test_dataset = test_dataset.take(test_size)\n",
    "\n",
    "# for tf data set batch size is given here\n",
    "batch_size = 128\n",
    "train_dataset = train_dataset.shuffle(buffer_size=1024).batch(batch_size)\n",
    "test_dataset = test_dataset.shuffle(buffer_size=1024).batch(batch_size)\n",
    "val_dataset = val_dataset.shuffle(buffer_size=1024).batch(batch_size)"
   ]
  },
  {
   "cell_type": "code",
   "execution_count": 10,
   "id": "1738c431-961d-4025-b54b-6d94333e2296",
   "metadata": {},
   "outputs": [],
   "source": [
    "optimizer = \"adam\"\n",
    "loss=\"categorical_crossentropy\" \n",
    "mertics_key = \"accuracy\"\n",
    "epochs = 100 "
   ]
  },
  {
   "cell_type": "code",
   "execution_count": 11,
   "id": "5390efd2-b793-4236-8a8a-eacbe39c609c",
   "metadata": {},
   "outputs": [],
   "source": [
    "# Try to create a model via Optuna\n",
    "import optuna"
   ]
  },
  {
   "cell_type": "code",
   "execution_count": 12,
   "id": "de77778a-bf2a-42d4-946d-3748b11e9cbe",
   "metadata": {},
   "outputs": [],
   "source": [
    "N_TRAIN_EXAMPLES = train_size\n",
    "N_VALID_EXAMPLES = val_size\n",
    "BATCHSIZE = 128\n",
    "CLASSES = 2\n",
    "EPOCHS = 1\n",
    "\n",
    "tf.keras.backend.clear_session()\n",
    "def create_model(trial):\n",
    "    # We optimize the numbers of layers, their units and weight decay parameter.\n",
    "    n_layers = trial.suggest_int(\"n_layers\", 1, 5)\n",
    "    weight_decay = trial.suggest_float(\"weight_decay\", 1e-10, 1e-3, log=True)\n",
    "    model = tf.keras.Sequential()\n",
    "    model.add(tf.keras.layers.Flatten())\n",
    "    for i in range(n_layers):\n",
    "        num_hidden = trial.suggest_int(\"n_units_l{}\".format(i), 4, 128, log=True)\n",
    "        model.add(\n",
    "            tf.keras.layers.Dense(\n",
    "                num_hidden,\n",
    "                activation=\"relu\",\n",
    "                kernel_regularizer=tf.keras.regularizers.l2(weight_decay),\n",
    "            )\n",
    "        )\n",
    "    model.add(\n",
    "        tf.keras.layers.Dense(CLASSES,activation=\"softmax\", kernel_regularizer=tf.keras.regularizers.l2(weight_decay))\n",
    "    )\n",
    "    return model"
   ]
  },
  {
   "cell_type": "code",
   "execution_count": 13,
   "id": "d113cf5d-ebba-4d5f-8418-3e5410dbc58b",
   "metadata": {},
   "outputs": [],
   "source": [
    "def create_optimizer(trial):\n",
    "    # We optimize the choice of optimizers as well as their parameters.\n",
    "    kwargs = {}\n",
    "    optimizer_options = [\"RMSprop\", \"Adam\", \"SGD\"]\n",
    "    optimizer_selected = trial.suggest_categorical(\"optimizer\", optimizer_options)\n",
    "    if optimizer_selected == \"RMSprop\":\n",
    "        kwargs[\"learning_rate\"] = trial.suggest_float(\n",
    "            \"rmsprop_learning_rate\", 1e-5, 1e-1, log=True\n",
    "        )\n",
    "        kwargs[\"decay\"] = trial.suggest_float(\"rmsprop_decay\", 0.85, 0.99)\n",
    "        kwargs[\"momentum\"] = trial.suggest_float(\"rmsprop_momentum\", 1e-5, 1e-1, log=True)\n",
    "    elif optimizer_selected == \"Adam\":\n",
    "        kwargs[\"learning_rate\"] = trial.suggest_float(\"adam_learning_rate\", 1e-5, 1e-1, log=True)\n",
    "    elif optimizer_selected == \"SGD\":\n",
    "        kwargs[\"learning_rate\"] = trial.suggest_float(\n",
    "            \"sgd_opt_learning_rate\", 1e-5, 1e-1, log=True\n",
    "        )\n",
    "        kwargs[\"momentum\"] = trial.suggest_float(\"sgd_opt_momentum\", 1e-5, 1e-1, log=True)\n",
    "\n",
    "    optimizer = getattr(tf.optimizers, optimizer_selected)(**kwargs)\n",
    "    return optimizer\n"
   ]
  },
  {
   "cell_type": "code",
   "execution_count": 14,
   "id": "d732628c-e078-4fc1-9313-4c36887fab05",
   "metadata": {},
   "outputs": [],
   "source": [
    "def get_test_dataset():\n",
    "    return test_dataset\n",
    "def get_val_dataset():\n",
    "    return val_dataset"
   ]
  },
  {
   "cell_type": "code",
   "execution_count": 15,
   "id": "df6628ca-4b84-4a4f-bc32-657b3818a242",
   "metadata": {},
   "outputs": [
    {
     "name": "stderr",
     "output_type": "stream",
     "text": [
      "\u001b[32m[I 2021-06-29 13:21:53,212]\u001b[0m A new study created in memory with name: no-name-f8b1abbe-68ab-4766-ab45-2b26fb21ee10\u001b[0m\n"
     ]
    },
    {
     "name": "stdout",
     "output_type": "stream",
     "text": [
      "2/2 [==============================] - 1s 2ms/step - loss: 0.7723 - accuracy: 0.4057\n",
      "1/1 [==============================] - 0s 171ms/step - loss: 0.6886 - accuracy: 0.4889\n"
     ]
    },
    {
     "name": "stderr",
     "output_type": "stream",
     "text": [
      "\u001b[32m[I 2021-06-29 13:21:53,980]\u001b[0m Trial 0 finished with value: 0.4888888895511627 and parameters: {'n_layers': 2, 'weight_decay': 1.354628111054648e-10, 'n_units_l0': 64, 'n_units_l1': 9, 'optimizer': 'SGD', 'sgd_opt_learning_rate': 0.0007943435942583571, 'sgd_opt_momentum': 2.9345713332617517e-05}. Best is trial 0 with value: 0.4888888895511627.\u001b[0m\n"
     ]
    },
    {
     "name": "stdout",
     "output_type": "stream",
     "text": [
      "Test accuracy: 0.4888888895511627\n",
      "2/2 [==============================] - 1s 3ms/step - loss: 0.6886 - accuracy: 0.4481\n",
      "1/1 [==============================] - 0s 158ms/step - loss: 0.6778 - accuracy: 0.4889\n"
     ]
    },
    {
     "name": "stderr",
     "output_type": "stream",
     "text": [
      "\u001b[32m[I 2021-06-29 13:21:54,770]\u001b[0m Trial 1 finished with value: 0.4888888895511627 and parameters: {'n_layers': 5, 'weight_decay': 2.250735398987193e-09, 'n_units_l0': 39, 'n_units_l1': 37, 'n_units_l2': 6, 'n_units_l3': 66, 'n_units_l4': 81, 'optimizer': 'RMSprop', 'rmsprop_learning_rate': 0.0003711230692740883, 'rmsprop_decay': 0.9631204270910798, 'rmsprop_momentum': 4.874653796716435e-05}. Best is trial 0 with value: 0.4888888895511627.\u001b[0m\n"
     ]
    },
    {
     "name": "stdout",
     "output_type": "stream",
     "text": [
      "Test accuracy: 0.4888888895511627\n"
     ]
    }
   ],
   "source": [
    "\n",
    "def objective(trial):\n",
    "    # Build model and optimizer.\n",
    "    model = create_model(trial)\n",
    "    optimizer = create_optimizer(trial)\n",
    "    model.compile(loss=\"categorical_crossentropy\",optimizer=optimizer, metrics=\"accuracy\")\n",
    "    history =model.fit(train_dataset, epochs=1)\n",
    "    test_dataset = get_test_dataset()\n",
    "    score = model.evaluate(test_dataset, verbose = 1) \n",
    "    print('Test accuracy:', score[1])\n",
    "    return score[1]\n",
    "\n",
    "study = optuna.create_study()\n",
    "study.optimize(objective, n_trials=2)\n",
    "    \n"
   ]
  },
  {
   "cell_type": "code",
   "execution_count": 16,
   "id": "c77522ad-57e9-4354-800f-50d59edb658a",
   "metadata": {},
   "outputs": [],
   "source": [
    "\n",
    "def objective(trial):\n",
    "    # Build model and optimizer.\n",
    "    model = create_model(trial)\n",
    "    optimizer = create_optimizer(trial)\n",
    "    model.compile(loss=\"categorical_crossentropy\",optimizer=optimizer, metrics=\"accuracy\")\n",
    "    history =model.fit(train_dataset, epochs=1)\n",
    "    test_dataset = get_test_dataset()\n",
    "    score = model.evaluate(test_dataset, verbose = 1) \n",
    "    print('Test accuracy:', score[1])\n",
    "    return score[1]"
   ]
  },
  {
   "cell_type": "code",
   "execution_count": 17,
   "id": "b06037e5-54f6-4931-b93d-1bc32bb38d16",
   "metadata": {},
   "outputs": [
    {
     "name": "stderr",
     "output_type": "stream",
     "text": [
      "\u001b[32m[I 2021-06-29 13:22:08,410]\u001b[0m A new study created in memory with name: no-name-b2a932d5-eff2-4606-9268-ed8add738674\u001b[0m\n"
     ]
    },
    {
     "name": "stdout",
     "output_type": "stream",
     "text": [
      "2/2 [==============================] - 1s 3ms/step - loss: 0.6813 - accuracy: 0.5472\n",
      "1/1 [==============================] - 0s 154ms/step - loss: 0.6453 - accuracy: 0.6000\n"
     ]
    },
    {
     "name": "stderr",
     "output_type": "stream",
     "text": [
      "\u001b[32m[I 2021-06-29 13:22:09,155]\u001b[0m Trial 0 finished with value: 0.6000000238418579 and parameters: {'n_layers': 3, 'weight_decay': 8.067887862413788e-08, 'n_units_l0': 10, 'n_units_l1': 6, 'n_units_l2': 4, 'optimizer': 'Adam', 'adam_learning_rate': 0.004514204561330346}. Best is trial 0 with value: 0.6000000238418579.\u001b[0m\n"
     ]
    },
    {
     "name": "stdout",
     "output_type": "stream",
     "text": [
      "Test accuracy: 0.6000000238418579\n",
      "2/2 [==============================] - 0s 2ms/step - loss: 0.7149 - accuracy: 0.6132\n",
      "1/1 [==============================] - 0s 136ms/step - loss: 0.7214 - accuracy: 0.5778\n"
     ]
    },
    {
     "name": "stderr",
     "output_type": "stream",
     "text": [
      "\u001b[32m[I 2021-06-29 13:22:09,705]\u001b[0m Trial 1 finished with value: 0.5777778029441833 and parameters: {'n_layers': 1, 'weight_decay': 0.00047971605935789136, 'n_units_l0': 9, 'optimizer': 'RMSprop', 'rmsprop_learning_rate': 0.006289019096953126, 'rmsprop_decay': 0.9788663386993317, 'rmsprop_momentum': 0.06332729706759922}. Best is trial 0 with value: 0.6000000238418579.\u001b[0m\n"
     ]
    },
    {
     "name": "stdout",
     "output_type": "stream",
     "text": [
      "Test accuracy: 0.5777778029441833\n",
      "WARNING:tensorflow:5 out of the last 9 calls to <function Model.make_train_function.<locals>.train_function at 0x7f859861e9d0> triggered tf.function retracing. Tracing is expensive and the excessive number of tracings could be due to (1) creating @tf.function repeatedly in a loop, (2) passing tensors with different shapes, (3) passing Python objects instead of tensors. For (1), please define your @tf.function outside of the loop. For (2), @tf.function has experimental_relax_shapes=True option that relaxes argument shapes that can avoid unnecessary retracing. For (3), please refer to https://www.tensorflow.org/guide/function#controlling_retracing and https://www.tensorflow.org/api_docs/python/tf/function for  more details.\n",
      "2/2 [==============================] - 0s 2ms/step - loss: 0.7703 - accuracy: 0.5236\n",
      "WARNING:tensorflow:5 out of the last 5 calls to <function Model.make_test_function.<locals>.test_function at 0x7f8598787040> triggered tf.function retracing. Tracing is expensive and the excessive number of tracings could be due to (1) creating @tf.function repeatedly in a loop, (2) passing tensors with different shapes, (3) passing Python objects instead of tensors. For (1), please define your @tf.function outside of the loop. For (2), @tf.function has experimental_relax_shapes=True option that relaxes argument shapes that can avoid unnecessary retracing. For (3), please refer to https://www.tensorflow.org/guide/function#controlling_retracing and https://www.tensorflow.org/api_docs/python/tf/function for  more details.\n",
      "1/1 [==============================] - 0s 150ms/step - loss: 0.7400 - accuracy: 0.4444\n"
     ]
    },
    {
     "name": "stderr",
     "output_type": "stream",
     "text": [
      "\u001b[32m[I 2021-06-29 13:22:10,349]\u001b[0m Trial 2 finished with value: 0.4444444477558136 and parameters: {'n_layers': 2, 'weight_decay': 1.1549764086857262e-10, 'n_units_l0': 6, 'n_units_l1': 5, 'optimizer': 'SGD', 'sgd_opt_learning_rate': 0.03826856050963803, 'sgd_opt_momentum': 0.08489882997237506}. Best is trial 0 with value: 0.6000000238418579.\u001b[0m\n"
     ]
    },
    {
     "name": "stdout",
     "output_type": "stream",
     "text": [
      "Test accuracy: 0.4444444477558136\n",
      "WARNING:tensorflow:6 out of the last 11 calls to <function Model.make_train_function.<locals>.train_function at 0x7f85985610d0> triggered tf.function retracing. Tracing is expensive and the excessive number of tracings could be due to (1) creating @tf.function repeatedly in a loop, (2) passing tensors with different shapes, (3) passing Python objects instead of tensors. For (1), please define your @tf.function outside of the loop. For (2), @tf.function has experimental_relax_shapes=True option that relaxes argument shapes that can avoid unnecessary retracing. For (3), please refer to https://www.tensorflow.org/guide/function#controlling_retracing and https://www.tensorflow.org/api_docs/python/tf/function for  more details.\n",
      "2/2 [==============================] - 1s 3ms/step - loss: 0.7141 - accuracy: 0.4858\n",
      "WARNING:tensorflow:6 out of the last 6 calls to <function Model.make_test_function.<locals>.test_function at 0x7f85985df430> triggered tf.function retracing. Tracing is expensive and the excessive number of tracings could be due to (1) creating @tf.function repeatedly in a loop, (2) passing tensors with different shapes, (3) passing Python objects instead of tensors. For (1), please define your @tf.function outside of the loop. For (2), @tf.function has experimental_relax_shapes=True option that relaxes argument shapes that can avoid unnecessary retracing. For (3), please refer to https://www.tensorflow.org/guide/function#controlling_retracing and https://www.tensorflow.org/api_docs/python/tf/function for  more details.\n",
      "1/1 [==============================] - 0s 195ms/step - loss: 0.6895 - accuracy: 0.4889\n"
     ]
    },
    {
     "name": "stderr",
     "output_type": "stream",
     "text": [
      "\u001b[32m[I 2021-06-29 13:22:11,182]\u001b[0m Trial 3 finished with value: 0.4888888895511627 and parameters: {'n_layers': 4, 'weight_decay': 6.697938286083566e-05, 'n_units_l0': 9, 'n_units_l1': 38, 'n_units_l2': 27, 'n_units_l3': 47, 'optimizer': 'Adam', 'adam_learning_rate': 1.0388768949194015e-05}. Best is trial 0 with value: 0.6000000238418579.\u001b[0m\n"
     ]
    },
    {
     "name": "stdout",
     "output_type": "stream",
     "text": [
      "Test accuracy: 0.4888888895511627\n",
      "2/2 [==============================] - 1s 4ms/step - loss: 0.7030 - accuracy: 0.5708\n",
      "1/1 [==============================] - 0s 180ms/step - loss: 0.6646 - accuracy: 0.6222\n"
     ]
    },
    {
     "name": "stderr",
     "output_type": "stream",
     "text": [
      "\u001b[32m[I 2021-06-29 13:22:12,145]\u001b[0m Trial 4 finished with value: 0.6222222447395325 and parameters: {'n_layers': 2, 'weight_decay': 1.986727057508324e-09, 'n_units_l0': 119, 'n_units_l1': 5, 'optimizer': 'SGD', 'sgd_opt_learning_rate': 0.03148408751562863, 'sgd_opt_momentum': 0.09809608310491476}. Best is trial 4 with value: 0.6222222447395325.\u001b[0m\n"
     ]
    },
    {
     "name": "stdout",
     "output_type": "stream",
     "text": [
      "Test accuracy: 0.6222222447395325\n",
      "2/2 [==============================] - 0s 3ms/step - loss: 0.6604 - accuracy: 0.6415\n",
      "1/1 [==============================] - 0s 128ms/step - loss: 0.6260 - accuracy: 0.6889\n"
     ]
    },
    {
     "name": "stderr",
     "output_type": "stream",
     "text": [
      "\u001b[32m[I 2021-06-29 13:22:12,760]\u001b[0m Trial 5 finished with value: 0.6888889074325562 and parameters: {'n_layers': 1, 'weight_decay': 0.0003524546846098815, 'n_units_l0': 68, 'optimizer': 'SGD', 'sgd_opt_learning_rate': 0.0010825429640691484, 'sgd_opt_momentum': 0.033045385776097516}. Best is trial 5 with value: 0.6888889074325562.\u001b[0m\n"
     ]
    },
    {
     "name": "stdout",
     "output_type": "stream",
     "text": [
      "Test accuracy: 0.6888889074325562\n",
      "2/2 [==============================] - 1s 3ms/step - loss: 0.7110 - accuracy: 0.4717\n",
      "1/1 [==============================] - 0s 159ms/step - loss: 0.7046 - accuracy: 0.4444\n"
     ]
    },
    {
     "name": "stderr",
     "output_type": "stream",
     "text": [
      "\u001b[32m[I 2021-06-29 13:22:13,499]\u001b[0m Trial 6 finished with value: 0.4444444477558136 and parameters: {'n_layers': 3, 'weight_decay': 2.2264446854706886e-09, 'n_units_l0': 44, 'n_units_l1': 94, 'n_units_l2': 67, 'optimizer': 'SGD', 'sgd_opt_learning_rate': 0.00020700519295855006, 'sgd_opt_momentum': 0.02694695082296048}. Best is trial 5 with value: 0.6888889074325562.\u001b[0m\n"
     ]
    },
    {
     "name": "stdout",
     "output_type": "stream",
     "text": [
      "Test accuracy: 0.4444444477558136\n",
      "2/2 [==============================] - 0s 4ms/step - loss: 0.7024 - accuracy: 0.4811\n",
      "1/1 [==============================] - 0s 155ms/step - loss: 0.7168 - accuracy: 0.6444\n"
     ]
    },
    {
     "name": "stderr",
     "output_type": "stream",
     "text": [
      "\u001b[32m[I 2021-06-29 13:22:14,191]\u001b[0m Trial 7 finished with value: 0.644444465637207 and parameters: {'n_layers': 3, 'weight_decay': 1.8055723932906187e-09, 'n_units_l0': 8, 'n_units_l1': 25, 'n_units_l2': 5, 'optimizer': 'SGD', 'sgd_opt_learning_rate': 0.0013191846764895353, 'sgd_opt_momentum': 0.01809230664817759}. Best is trial 5 with value: 0.6888889074325562.\u001b[0m\n"
     ]
    },
    {
     "name": "stdout",
     "output_type": "stream",
     "text": [
      "Test accuracy: 0.644444465637207\n",
      "2/2 [==============================] - 1s 2ms/step - loss: 0.6091 - accuracy: 0.6462\n",
      "1/1 [==============================] - 0s 149ms/step - loss: 0.4742 - accuracy: 0.8000\n"
     ]
    },
    {
     "name": "stderr",
     "output_type": "stream",
     "text": [
      "\u001b[32m[I 2021-06-29 13:22:14,922]\u001b[0m Trial 8 finished with value: 0.800000011920929 and parameters: {'n_layers': 3, 'weight_decay': 2.2195293231256894e-06, 'n_units_l0': 5, 'n_units_l1': 12, 'n_units_l2': 29, 'optimizer': 'RMSprop', 'rmsprop_learning_rate': 0.03544300858552145, 'rmsprop_decay': 0.888321497618045, 'rmsprop_momentum': 0.0007398402182267387}. Best is trial 8 with value: 0.800000011920929.\u001b[0m\n"
     ]
    },
    {
     "name": "stdout",
     "output_type": "stream",
     "text": [
      "Test accuracy: 0.800000011920929\n",
      "2/2 [==============================] - 0s 2ms/step - loss: 0.6605 - accuracy: 0.5991\n",
      "1/1 [==============================] - 0s 157ms/step - loss: 0.5519 - accuracy: 0.7333\n"
     ]
    },
    {
     "name": "stderr",
     "output_type": "stream",
     "text": [
      "\u001b[32m[I 2021-06-29 13:22:15,526]\u001b[0m Trial 9 finished with value: 0.7333333492279053 and parameters: {'n_layers': 2, 'weight_decay': 1.0815194034675449e-10, 'n_units_l0': 9, 'n_units_l1': 20, 'optimizer': 'SGD', 'sgd_opt_learning_rate': 0.015786238836066162, 'sgd_opt_momentum': 3.0457074764752488e-05}. Best is trial 8 with value: 0.800000011920929.\u001b[0m\n"
     ]
    },
    {
     "name": "stdout",
     "output_type": "stream",
     "text": [
      "Test accuracy: 0.7333333492279053\n",
      "2/2 [==============================] - 1s 2ms/step - loss: 0.7150 - accuracy: 0.6179\n",
      "1/1 [==============================] - 0s 178ms/step - loss: 0.6745 - accuracy: 0.6222\n"
     ]
    },
    {
     "name": "stderr",
     "output_type": "stream",
     "text": [
      "\u001b[32m[I 2021-06-29 13:22:16,407]\u001b[0m Trial 10 finished with value: 0.6222222447395325 and parameters: {'n_layers': 5, 'weight_decay': 3.43540979145071e-06, 'n_units_l0': 4, 'n_units_l1': 12, 'n_units_l2': 18, 'n_units_l3': 4, 'n_units_l4': 5, 'optimizer': 'RMSprop', 'rmsprop_learning_rate': 0.08419314873783872, 'rmsprop_decay': 0.8578489876350883, 'rmsprop_momentum': 8.028085419656524e-05}. Best is trial 8 with value: 0.800000011920929.\u001b[0m\n"
     ]
    },
    {
     "name": "stdout",
     "output_type": "stream",
     "text": [
      "Test accuracy: 0.6222222447395325\n",
      "2/2 [==============================] - 0s 2ms/step - loss: 0.6084 - accuracy: 0.7217\n",
      "1/1 [==============================] - 0s 139ms/step - loss: 0.5744 - accuracy: 0.7556\n"
     ]
    },
    {
     "name": "stderr",
     "output_type": "stream",
     "text": [
      "\u001b[32m[I 2021-06-29 13:22:17,073]\u001b[0m Trial 11 finished with value: 0.7555555701255798 and parameters: {'n_layers': 2, 'weight_decay': 9.504471615517721e-07, 'n_units_l0': 18, 'n_units_l1': 13, 'optimizer': 'RMSprop', 'rmsprop_learning_rate': 3.197655515242832e-05, 'rmsprop_decay': 0.8845117166979444, 'rmsprop_momentum': 0.0023775875565506333}. Best is trial 8 with value: 0.800000011920929.\u001b[0m\n"
     ]
    },
    {
     "name": "stdout",
     "output_type": "stream",
     "text": [
      "Test accuracy: 0.7555555701255798\n",
      "2/2 [==============================] - 1s 3ms/step - loss: 0.7298 - accuracy: 0.4670\n",
      "1/1 [==============================] - 0s 196ms/step - loss: 0.7214 - accuracy: 0.4444\n"
     ]
    },
    {
     "name": "stderr",
     "output_type": "stream",
     "text": [
      "\u001b[32m[I 2021-06-29 13:22:17,925]\u001b[0m Trial 12 finished with value: 0.4444444477558136 and parameters: {'n_layers': 4, 'weight_decay': 1.447177007262127e-06, 'n_units_l0': 20, 'n_units_l1': 14, 'n_units_l2': 24, 'n_units_l3': 4, 'optimizer': 'RMSprop', 'rmsprop_learning_rate': 2.180919126899795e-05, 'rmsprop_decay': 0.887884216199207, 'rmsprop_momentum': 0.0026314822193288546}. Best is trial 8 with value: 0.800000011920929.\u001b[0m\n"
     ]
    },
    {
     "name": "stdout",
     "output_type": "stream",
     "text": [
      "Test accuracy: 0.4444444477558136\n",
      "2/2 [==============================] - 1s 3ms/step - loss: 0.6804 - accuracy: 0.6179\n",
      "1/1 [==============================] - 0s 181ms/step - loss: 0.6659 - accuracy: 0.7111\n"
     ]
    },
    {
     "name": "stderr",
     "output_type": "stream",
     "text": [
      "\u001b[32m[I 2021-06-29 13:22:18,803]\u001b[0m Trial 13 finished with value: 0.7111111283302307 and parameters: {'n_layers': 4, 'weight_decay': 1.4955776276538403e-07, 'n_units_l0': 20, 'n_units_l1': 10, 'n_units_l2': 83, 'n_units_l3': 113, 'optimizer': 'RMSprop', 'rmsprop_learning_rate': 3.0072776188701626e-05, 'rmsprop_decay': 0.9086928974434826, 'rmsprop_momentum': 0.0015972628547322562}. Best is trial 8 with value: 0.800000011920929.\u001b[0m\n"
     ]
    },
    {
     "name": "stdout",
     "output_type": "stream",
     "text": [
      "Test accuracy: 0.7111111283302307\n",
      "2/2 [==============================] - 0s 3ms/step - loss: 0.6679 - accuracy: 0.5991\n",
      "1/1 [==============================] - 0s 400ms/step - loss: 0.5954 - accuracy: 0.7556\n"
     ]
    },
    {
     "name": "stderr",
     "output_type": "stream",
     "text": [
      "\u001b[32m[I 2021-06-29 13:22:19,743]\u001b[0m Trial 14 finished with value: 0.7555555701255798 and parameters: {'n_layers': 2, 'weight_decay': 1.4730430360119015e-05, 'n_units_l0': 38, 'n_units_l1': 44, 'optimizer': 'RMSprop', 'rmsprop_learning_rate': 0.0006240290441015185, 'rmsprop_decay': 0.8703146547978723, 'rmsprop_momentum': 0.0002829308946875348}. Best is trial 8 with value: 0.800000011920929.\u001b[0m\n"
     ]
    },
    {
     "name": "stdout",
     "output_type": "stream",
     "text": [
      "Test accuracy: 0.7555555701255798\n",
      "2/2 [==============================] - 0s 3ms/step - loss: 0.5418 - accuracy: 0.7453\n",
      "1/1 [==============================] - 0s 171ms/step - loss: 0.4103 - accuracy: 0.8222\n"
     ]
    },
    {
     "name": "stderr",
     "output_type": "stream",
     "text": [
      "\u001b[32m[I 2021-06-29 13:22:20,384]\u001b[0m Trial 15 finished with value: 0.8222222328186035 and parameters: {'n_layers': 1, 'weight_decay': 3.6132938558297385e-08, 'n_units_l0': 5, 'optimizer': 'RMSprop', 'rmsprop_learning_rate': 0.05502520805536845, 'rmsprop_decay': 0.930736899603069, 'rmsprop_momentum': 0.01597534162639085}. Best is trial 15 with value: 0.8222222328186035.\u001b[0m\n"
     ]
    },
    {
     "name": "stdout",
     "output_type": "stream",
     "text": [
      "Test accuracy: 0.8222222328186035\n",
      "2/2 [==============================] - 1s 3ms/step - loss: 2.6835 - accuracy: 0.5425\n",
      "1/1 [==============================] - 0s 171ms/step - loss: 6.9808 - accuracy: 0.6444\n"
     ]
    },
    {
     "name": "stderr",
     "output_type": "stream",
     "text": [
      "\u001b[32m[I 2021-06-29 13:22:21,295]\u001b[0m Trial 16 finished with value: 0.644444465637207 and parameters: {'n_layers': 5, 'weight_decay': 2.5596027505361706e-08, 'n_units_l0': 4, 'n_units_l1': 60, 'n_units_l2': 10, 'n_units_l3': 14, 'n_units_l4': 127, 'optimizer': 'RMSprop', 'rmsprop_learning_rate': 0.07359269504553251, 'rmsprop_decay': 0.9491510956823226, 'rmsprop_momentum': 0.04674080453240073}. Best is trial 15 with value: 0.8222222328186035.\u001b[0m\n"
     ]
    },
    {
     "name": "stdout",
     "output_type": "stream",
     "text": [
      "Test accuracy: 0.644444465637207\n",
      "2/2 [==============================] - 0s 4ms/step - loss: 1.0124 - accuracy: 0.5472\n",
      "1/1 [==============================] - 0s 173ms/step - loss: 0.8248 - accuracy: 0.6000\n"
     ]
    },
    {
     "name": "stderr",
     "output_type": "stream",
     "text": [
      "\u001b[32m[I 2021-06-29 13:22:21,956]\u001b[0m Trial 17 finished with value: 0.6000000238418579 and parameters: {'n_layers': 1, 'weight_decay': 3.267122432404893e-08, 'n_units_l0': 5, 'optimizer': 'RMSprop', 'rmsprop_learning_rate': 0.00966439745186618, 'rmsprop_decay': 0.9324642205091728, 'rmsprop_momentum': 0.015422497678671532}. Best is trial 15 with value: 0.8222222328186035.\u001b[0m\n"
     ]
    },
    {
     "name": "stdout",
     "output_type": "stream",
     "text": [
      "Test accuracy: 0.6000000238418579\n",
      "2/2 [==============================] - 1s 3ms/step - loss: 0.7236 - accuracy: 0.4623\n",
      "1/1 [==============================] - 0s 166ms/step - loss: 0.7669 - accuracy: 0.4222\n"
     ]
    },
    {
     "name": "stderr",
     "output_type": "stream",
     "text": [
      "\u001b[32m[I 2021-06-29 13:22:22,814]\u001b[0m Trial 18 finished with value: 0.42222222685813904 and parameters: {'n_layers': 4, 'weight_decay': 2.3576430202083537e-05, 'n_units_l0': 14, 'n_units_l1': 8, 'n_units_l2': 49, 'n_units_l3': 19, 'optimizer': 'Adam', 'adam_learning_rate': 3.642804089030937e-05}. Best is trial 15 with value: 0.8222222328186035.\u001b[0m\n"
     ]
    },
    {
     "name": "stdout",
     "output_type": "stream",
     "text": [
      "Test accuracy: 0.42222222685813904\n",
      "2/2 [==============================] - 1s 3ms/step - loss: 0.6784 - accuracy: 0.6226\n",
      "1/1 [==============================] - 0s 160ms/step - loss: 0.5802 - accuracy: 0.7556\n"
     ]
    },
    {
     "name": "stderr",
     "output_type": "stream",
     "text": [
      "\u001b[32m[I 2021-06-29 13:22:23,559]\u001b[0m Trial 19 finished with value: 0.7555555701255798 and parameters: {'n_layers': 3, 'weight_decay': 1.3293266063250279e-08, 'n_units_l0': 4, 'n_units_l1': 117, 'n_units_l2': 10, 'optimizer': 'RMSprop', 'rmsprop_learning_rate': 0.016058652967817957, 'rmsprop_decay': 0.9196212800051748, 'rmsprop_momentum': 2.231584242533746e-05}. Best is trial 15 with value: 0.8222222328186035.\u001b[0m\n"
     ]
    },
    {
     "name": "stdout",
     "output_type": "stream",
     "text": [
      "Test accuracy: 0.7555555701255798\n",
      "2/2 [==============================] - 0s 3ms/step - loss: 0.7303 - accuracy: 0.5425\n",
      "1/1 [==============================] - 0s 132ms/step - loss: 0.6253 - accuracy: 0.6000\n"
     ]
    },
    {
     "name": "stderr",
     "output_type": "stream",
     "text": [
      "\u001b[32m[I 2021-06-29 13:22:24,133]\u001b[0m Trial 20 finished with value: 0.6000000238418579 and parameters: {'n_layers': 1, 'weight_decay': 2.0242528300795338e-07, 'n_units_l0': 6, 'optimizer': 'RMSprop', 'rmsprop_learning_rate': 0.0007891526545184155, 'rmsprop_decay': 0.9596893945864051, 'rmsprop_momentum': 0.01315030091605105}. Best is trial 15 with value: 0.8222222328186035.\u001b[0m\n"
     ]
    },
    {
     "name": "stdout",
     "output_type": "stream",
     "text": [
      "Test accuracy: 0.6000000238418579\n",
      "2/2 [==============================] - 0s 3ms/step - loss: 0.8027 - accuracy: 0.3160\n",
      "1/1 [==============================] - 0s 148ms/step - loss: 0.7695 - accuracy: 0.3556\n"
     ]
    },
    {
     "name": "stderr",
     "output_type": "stream",
     "text": [
      "\u001b[32m[I 2021-06-29 13:22:24,800]\u001b[0m Trial 21 finished with value: 0.35555556416511536 and parameters: {'n_layers': 2, 'weight_decay': 1.3143801612717456e-05, 'n_units_l0': 37, 'n_units_l1': 39, 'optimizer': 'RMSprop', 'rmsprop_learning_rate': 0.0007540766660835216, 'rmsprop_decay': 0.8513397502022286, 'rmsprop_momentum': 0.00038265649238006233}. Best is trial 15 with value: 0.8222222328186035.\u001b[0m\n"
     ]
    },
    {
     "name": "stdout",
     "output_type": "stream",
     "text": [
      "Test accuracy: 0.35555556416511536\n",
      "2/2 [==============================] - 1s 3ms/step - loss: 0.8990 - accuracy: 0.5377\n",
      "1/1 [==============================] - 0s 203ms/step - loss: 0.7029 - accuracy: 0.4444\n"
     ]
    },
    {
     "name": "stderr",
     "output_type": "stream",
     "text": [
      "\u001b[32m[I 2021-06-29 13:22:25,606]\u001b[0m Trial 22 finished with value: 0.4444444477558136 and parameters: {'n_layers': 3, 'weight_decay': 9.20259965323619e-09, 'n_units_l0': 4, 'n_units_l1': 124, 'n_units_l2': 9, 'optimizer': 'RMSprop', 'rmsprop_learning_rate': 0.021570424705848266, 'rmsprop_decay': 0.9150530501710434, 'rmsprop_momentum': 1.1648163652783314e-05}. Best is trial 15 with value: 0.8222222328186035.\u001b[0m\n"
     ]
    },
    {
     "name": "stdout",
     "output_type": "stream",
     "text": [
      "Test accuracy: 0.4444444477558136\n",
      "2/2 [==============================] - 0s 2ms/step - loss: 0.6270 - accuracy: 0.6604\n",
      "1/1 [==============================] - 0s 164ms/step - loss: 0.6220 - accuracy: 0.7333\n"
     ]
    },
    {
     "name": "stderr",
     "output_type": "stream",
     "text": [
      "\u001b[32m[I 2021-06-29 13:22:26,336]\u001b[0m Trial 23 finished with value: 0.7333333492279053 and parameters: {'n_layers': 2, 'weight_decay': 6.89699444424386e-07, 'n_units_l0': 15, 'n_units_l1': 18, 'optimizer': 'RMSprop', 'rmsprop_learning_rate': 8.387887910438968e-05, 'rmsprop_decay': 0.8899650364302577, 'rmsprop_momentum': 0.0065184283410039505}. Best is trial 15 with value: 0.8222222328186035.\u001b[0m\n"
     ]
    },
    {
     "name": "stdout",
     "output_type": "stream",
     "text": [
      "Test accuracy: 0.7333333492279053\n",
      "2/2 [==============================] - 0s 3ms/step - loss: 0.9638 - accuracy: 0.4764\n",
      "1/1 [==============================] - 0s 142ms/step - loss: 0.7398 - accuracy: 0.6000\n"
     ]
    },
    {
     "name": "stderr",
     "output_type": "stream",
     "text": [
      "\u001b[32m[I 2021-06-29 13:22:26,981]\u001b[0m Trial 24 finished with value: 0.6000000238418579 and parameters: {'n_layers': 1, 'weight_decay': 2.1688171192584004e-06, 'n_units_l0': 13, 'optimizer': 'RMSprop', 'rmsprop_learning_rate': 0.00014701045163552105, 'rmsprop_decay': 0.8850912795555932, 'rmsprop_momentum': 0.0005841036736712286}. Best is trial 15 with value: 0.8222222328186035.\u001b[0m\n"
     ]
    },
    {
     "name": "stdout",
     "output_type": "stream",
     "text": [
      "Test accuracy: 0.6000000238418579\n",
      "2/2 [==============================] - 1s 3ms/step - loss: 0.6467 - accuracy: 0.5896\n",
      "1/1 [==============================] - 0s 166ms/step - loss: 0.5198 - accuracy: 0.8889\n"
     ]
    },
    {
     "name": "stderr",
     "output_type": "stream",
     "text": [
      "\u001b[32m[I 2021-06-29 13:22:28,010]\u001b[0m Trial 25 finished with value: 0.8888888955116272 and parameters: {'n_layers': 3, 'weight_decay': 7.1913148154227916e-09, 'n_units_l0': 4, 'n_units_l1': 4, 'n_units_l2': 12, 'optimizer': 'RMSprop', 'rmsprop_learning_rate': 0.029644019265760973, 'rmsprop_decay': 0.92586152202484, 'rmsprop_momentum': 1.2754687799089803e-05}. Best is trial 25 with value: 0.8888888955116272.\u001b[0m\n"
     ]
    },
    {
     "name": "stdout",
     "output_type": "stream",
     "text": [
      "Test accuracy: 0.8888888955116272\n",
      "2/2 [==============================] - 1s 3ms/step - loss: 1.2757 - accuracy: 0.4953\n",
      "1/1 [==============================] - 0s 195ms/step - loss: 0.6886 - accuracy: 0.5556\n"
     ]
    },
    {
     "name": "stderr",
     "output_type": "stream",
     "text": [
      "\u001b[32m[I 2021-06-29 13:22:28,920]\u001b[0m Trial 26 finished with value: 0.5555555820465088 and parameters: {'n_layers': 4, 'weight_decay': 3.9823631314424065e-10, 'n_units_l0': 6, 'n_units_l1': 4, 'n_units_l2': 39, 'n_units_l3': 124, 'optimizer': 'RMSprop', 'rmsprop_learning_rate': 0.047599146125911956, 'rmsprop_decay': 0.9371783859218648, 'rmsprop_momentum': 8.264147071596238e-05}. Best is trial 25 with value: 0.8888888955116272.\u001b[0m\n"
     ]
    },
    {
     "name": "stdout",
     "output_type": "stream",
     "text": [
      "Test accuracy: 0.5555555820465088\n",
      "2/2 [==============================] - 1s 3ms/step - loss: 0.7455 - accuracy: 0.5142\n",
      "1/1 [==============================] - 0s 154ms/step - loss: 0.6940 - accuracy: 0.5778\n"
     ]
    },
    {
     "name": "stderr",
     "output_type": "stream",
     "text": [
      "\u001b[32m[I 2021-06-29 13:22:29,686]\u001b[0m Trial 27 finished with value: 0.5777778029441833 and parameters: {'n_layers': 3, 'weight_decay': 6.356668697202834e-08, 'n_units_l0': 5, 'n_units_l1': 7, 'n_units_l2': 15, 'optimizer': 'Adam', 'adam_learning_rate': 0.0826672704346884}. Best is trial 25 with value: 0.8888888955116272.\u001b[0m\n"
     ]
    },
    {
     "name": "stdout",
     "output_type": "stream",
     "text": [
      "Test accuracy: 0.5777778029441833\n",
      "2/2 [==============================] - 1s 3ms/step - loss: 0.6966 - accuracy: 0.4764\n",
      "1/1 [==============================] - 0s 199ms/step - loss: 0.6701 - accuracy: 0.6667\n"
     ]
    },
    {
     "name": "stderr",
     "output_type": "stream",
     "text": [
      "\u001b[32m[I 2021-06-29 13:22:30,536]\u001b[0m Trial 28 finished with value: 0.6666666865348816 and parameters: {'n_layers': 3, 'weight_decay': 1.003127270826356e-08, 'n_units_l0': 7, 'n_units_l1': 4, 'n_units_l2': 119, 'optimizer': 'RMSprop', 'rmsprop_learning_rate': 0.0031380837708703067, 'rmsprop_decay': 0.9054669092479455, 'rmsprop_momentum': 8.662978699095029e-05}. Best is trial 25 with value: 0.8888888955116272.\u001b[0m\n"
     ]
    },
    {
     "name": "stdout",
     "output_type": "stream",
     "text": [
      "Test accuracy: 0.6666666865348816\n",
      "2/2 [==============================] - 1s 3ms/step - loss: 0.7213 - accuracy: 0.3302\n",
      "1/1 [==============================] - 0s 191ms/step - loss: 0.7107 - accuracy: 0.5556\n"
     ]
    },
    {
     "name": "stderr",
     "output_type": "stream",
     "text": [
      "\u001b[32m[I 2021-06-29 13:22:31,370]\u001b[0m Trial 29 finished with value: 0.5555555820465088 and parameters: {'n_layers': 3, 'weight_decay': 5.65325657477649e-10, 'n_units_l0': 4, 'n_units_l1': 10, 'n_units_l2': 6, 'optimizer': 'Adam', 'adam_learning_rate': 0.00042828863364835756}. Best is trial 25 with value: 0.8888888955116272.\u001b[0m\n"
     ]
    },
    {
     "name": "stdout",
     "output_type": "stream",
     "text": [
      "Test accuracy: 0.5555555820465088\n",
      "2/2 [==============================] - 1s 4ms/step - loss: 1.0649 - accuracy: 0.4575\n",
      "1/1 [==============================] - 0s 172ms/step - loss: 1.0872 - accuracy: 0.4889\n"
     ]
    },
    {
     "name": "stderr",
     "output_type": "stream",
     "text": [
      "\u001b[32m[I 2021-06-29 13:22:32,275]\u001b[0m Trial 30 finished with value: 0.4888888895511627 and parameters: {'n_layers': 4, 'weight_decay': 3.3536217506357745e-07, 'n_units_l0': 11, 'n_units_l1': 27, 'n_units_l2': 33, 'n_units_l3': 9, 'optimizer': 'RMSprop', 'rmsprop_learning_rate': 0.03803329413961711, 'rmsprop_decay': 0.9332797049539852, 'rmsprop_momentum': 0.021419181139012908}. Best is trial 25 with value: 0.8888888955116272.\u001b[0m\n"
     ]
    },
    {
     "name": "stdout",
     "output_type": "stream",
     "text": [
      "Test accuracy: 0.4888888895511627\n",
      "2/2 [==============================] - 1s 3ms/step - loss: 0.7189 - accuracy: 0.5236\n",
      "1/1 [==============================] - 0s 160ms/step - loss: 0.5978 - accuracy: 0.6889\n"
     ]
    },
    {
     "name": "stderr",
     "output_type": "stream",
     "text": [
      "\u001b[32m[I 2021-06-29 13:22:33,024]\u001b[0m Trial 31 finished with value: 0.6888889074325562 and parameters: {'n_layers': 3, 'weight_decay': 7.361121478162663e-09, 'n_units_l0': 5, 'n_units_l1': 67, 'n_units_l2': 12, 'optimizer': 'RMSprop', 'rmsprop_learning_rate': 0.01639226803693977, 'rmsprop_decay': 0.9229917292495289, 'rmsprop_momentum': 1.3618607184089593e-05}. Best is trial 25 with value: 0.8888888955116272.\u001b[0m\n"
     ]
    },
    {
     "name": "stdout",
     "output_type": "stream",
     "text": [
      "Test accuracy: 0.6888889074325562\n",
      "2/2 [==============================] - 1s 3ms/step - loss: 0.6824 - accuracy: 0.5519\n",
      "1/1 [==============================] - 0s 168ms/step - loss: 0.6452 - accuracy: 0.6000\n"
     ]
    },
    {
     "name": "stderr",
     "output_type": "stream",
     "text": [
      "\u001b[32m[I 2021-06-29 13:22:33,959]\u001b[0m Trial 32 finished with value: 0.6000000238418579 and parameters: {'n_layers': 3, 'weight_decay': 5.901895433237167e-08, 'n_units_l0': 4, 'n_units_l1': 29, 'n_units_l2': 7, 'optimizer': 'RMSprop', 'rmsprop_learning_rate': 0.0031119781027837265, 'rmsprop_decay': 0.9542730815079258, 'rmsprop_momentum': 2.38249952404316e-05}. Best is trial 25 with value: 0.8888888955116272.\u001b[0m\n"
     ]
    },
    {
     "name": "stdout",
     "output_type": "stream",
     "text": [
      "Test accuracy: 0.6000000238418579\n",
      "2/2 [==============================] - 0s 2ms/step - loss: 0.7046 - accuracy: 0.5425\n",
      "1/1 [==============================] - 0s 146ms/step - loss: 0.6924 - accuracy: 0.5778\n"
     ]
    },
    {
     "name": "stderr",
     "output_type": "stream",
     "text": [
      "\u001b[32m[I 2021-06-29 13:22:34,617]\u001b[0m Trial 33 finished with value: 0.5777778029441833 and parameters: {'n_layers': 2, 'weight_decay': 1.1925218700594366e-05, 'n_units_l0': 45, 'n_units_l1': 51, 'optimizer': 'RMSprop', 'rmsprop_learning_rate': 0.0003581104255855836, 'rmsprop_decay': 0.8656343633806932, 'rmsprop_momentum': 0.00023418948924203498}. Best is trial 25 with value: 0.8888888955116272.\u001b[0m\n"
     ]
    },
    {
     "name": "stdout",
     "output_type": "stream",
     "text": [
      "Test accuracy: 0.5777778029441833\n",
      "2/2 [==============================] - 0s 3ms/step - loss: 0.6705 - accuracy: 0.6038\n",
      "1/1 [==============================] - 0s 461ms/step - loss: 0.4971 - accuracy: 0.8000\n"
     ]
    },
    {
     "name": "stderr",
     "output_type": "stream",
     "text": [
      "\u001b[32m[I 2021-06-29 13:22:35,639]\u001b[0m Trial 34 finished with value: 0.800000011920929 and parameters: {'n_layers': 2, 'weight_decay': 4.427782004392745e-06, 'n_units_l0': 29, 'n_units_l1': 42, 'optimizer': 'RMSprop', 'rmsprop_learning_rate': 0.0044914090518244, 'rmsprop_decay': 0.8750734143187228, 'rmsprop_momentum': 0.0008564097894075348}. Best is trial 25 with value: 0.8888888955116272.\u001b[0m\n"
     ]
    },
    {
     "name": "stdout",
     "output_type": "stream",
     "text": [
      "Test accuracy: 0.800000011920929\n",
      "2/2 [==============================] - 0s 2ms/step - loss: 1.1809 - accuracy: 0.5472\n",
      "1/1 [==============================] - 0s 142ms/step - loss: 1.1197 - accuracy: 0.8667\n"
     ]
    },
    {
     "name": "stderr",
     "output_type": "stream",
     "text": [
      "\u001b[32m[I 2021-06-29 13:22:36,278]\u001b[0m Trial 35 finished with value: 0.8666666746139526 and parameters: {'n_layers': 1, 'weight_decay': 7.154351122484863e-05, 'n_units_l0': 33, 'optimizer': 'RMSprop', 'rmsprop_learning_rate': 0.09625717580979158, 'rmsprop_decay': 0.8978762029171554, 'rmsprop_momentum': 0.0009034568468766034}. Best is trial 25 with value: 0.8888888955116272.\u001b[0m\n"
     ]
    },
    {
     "name": "stdout",
     "output_type": "stream",
     "text": [
      "Test accuracy: 0.8666666746139526\n",
      "2/2 [==============================] - 0s 3ms/step - loss: 0.7567 - accuracy: 0.5613\n",
      "1/1 [==============================] - 0s 141ms/step - loss: 0.4935 - accuracy: 0.8222\n"
     ]
    },
    {
     "name": "stderr",
     "output_type": "stream",
     "text": [
      "\u001b[32m[I 2021-06-29 13:22:36,921]\u001b[0m Trial 36 finished with value: 0.8222222328186035 and parameters: {'n_layers': 1, 'weight_decay': 8.761251746324615e-05, 'n_units_l0': 29, 'optimizer': 'RMSprop', 'rmsprop_learning_rate': 0.09787299608068678, 'rmsprop_decay': 0.902593554677249, 'rmsprop_momentum': 0.0033842139701405404}. Best is trial 25 with value: 0.8888888955116272.\u001b[0m\n"
     ]
    },
    {
     "name": "stdout",
     "output_type": "stream",
     "text": [
      "Test accuracy: 0.8222222328186035\n",
      "2/2 [==============================] - 0s 3ms/step - loss: 1.0684 - accuracy: 0.4858\n",
      "1/1 [==============================] - 0s 139ms/step - loss: 0.3259 - accuracy: 0.9111\n"
     ]
    },
    {
     "name": "stderr",
     "output_type": "stream",
     "text": [
      "\u001b[32m[I 2021-06-29 13:22:37,609]\u001b[0m Trial 37 finished with value: 0.9111111164093018 and parameters: {'n_layers': 1, 'weight_decay': 0.00018080177475823887, 'n_units_l0': 28, 'optimizer': 'RMSprop', 'rmsprop_learning_rate': 0.07730199405243413, 'rmsprop_decay': 0.9085544153798949, 'rmsprop_momentum': 0.005468689807922768}. Best is trial 37 with value: 0.9111111164093018.\u001b[0m\n"
     ]
    },
    {
     "name": "stdout",
     "output_type": "stream",
     "text": [
      "Test accuracy: 0.9111111164093018\n",
      "2/2 [==============================] - 0s 3ms/step - loss: 0.6248 - accuracy: 0.6085\n",
      "1/1 [==============================] - 0s 160ms/step - loss: 0.4872 - accuracy: 0.7556\n"
     ]
    },
    {
     "name": "stderr",
     "output_type": "stream",
     "text": [
      "\u001b[32m[I 2021-06-29 13:22:38,252]\u001b[0m Trial 38 finished with value: 0.7555555701255798 and parameters: {'n_layers': 1, 'weight_decay': 0.00020943145537280256, 'n_units_l0': 26, 'optimizer': 'Adam', 'adam_learning_rate': 0.08273119207506771}. Best is trial 37 with value: 0.9111111164093018.\u001b[0m\n"
     ]
    },
    {
     "name": "stdout",
     "output_type": "stream",
     "text": [
      "Test accuracy: 0.7555555701255798\n",
      "2/2 [==============================] - 0s 3ms/step - loss: 1.2478 - accuracy: 0.5943\n",
      "1/1 [==============================] - 0s 147ms/step - loss: 1.6126 - accuracy: 0.6667\n"
     ]
    },
    {
     "name": "stderr",
     "output_type": "stream",
     "text": [
      "\u001b[32m[I 2021-06-29 13:22:38,882]\u001b[0m Trial 39 finished with value: 0.6666666865348816 and parameters: {'n_layers': 1, 'weight_decay': 0.00011220399099281935, 'n_units_l0': 68, 'optimizer': 'RMSprop', 'rmsprop_learning_rate': 0.09488817480276816, 'rmsprop_decay': 0.9011481274129316, 'rmsprop_momentum': 0.004983855556547572}. Best is trial 37 with value: 0.9111111164093018.\u001b[0m\n"
     ]
    },
    {
     "name": "stdout",
     "output_type": "stream",
     "text": [
      "Test accuracy: 0.6666666865348816\n",
      "2/2 [==============================] - 0s 3ms/step - loss: 0.8723 - accuracy: 0.4057\n",
      "1/1 [==============================] - 0s 146ms/step - loss: 0.7814 - accuracy: 0.4889\n"
     ]
    },
    {
     "name": "stderr",
     "output_type": "stream",
     "text": [
      "\u001b[32m[I 2021-06-29 13:22:39,449]\u001b[0m Trial 40 finished with value: 0.4888888895511627 and parameters: {'n_layers': 1, 'weight_decay': 0.000499815953371802, 'n_units_l0': 64, 'optimizer': 'SGD', 'sgd_opt_learning_rate': 1.0498984141047091e-05, 'sgd_opt_momentum': 1.6013020190785673e-05}. Best is trial 37 with value: 0.9111111164093018.\u001b[0m\n"
     ]
    },
    {
     "name": "stdout",
     "output_type": "stream",
     "text": [
      "Test accuracy: 0.4888888895511627\n",
      "2/2 [==============================] - 0s 4ms/step - loss: 0.9223 - accuracy: 0.5425\n",
      "1/1 [==============================] - 0s 169ms/step - loss: 0.5855 - accuracy: 0.7111\n"
     ]
    },
    {
     "name": "stderr",
     "output_type": "stream",
     "text": [
      "\u001b[32m[I 2021-06-29 13:22:40,110]\u001b[0m Trial 41 finished with value: 0.7111111283302307 and parameters: {'n_layers': 1, 'weight_decay': 0.0009568099276339405, 'n_units_l0': 28, 'optimizer': 'RMSprop', 'rmsprop_learning_rate': 0.0853163270715066, 'rmsprop_decay': 0.8999506594095322, 'rmsprop_momentum': 0.006459574591229672}. Best is trial 37 with value: 0.9111111164093018.\u001b[0m\n"
     ]
    },
    {
     "name": "stdout",
     "output_type": "stream",
     "text": [
      "Test accuracy: 0.7111111283302307\n",
      "2/2 [==============================] - 0s 2ms/step - loss: 0.9816 - accuracy: 0.6462\n",
      "1/1 [==============================] - 0s 143ms/step - loss: 0.6336 - accuracy: 0.7778\n"
     ]
    },
    {
     "name": "stderr",
     "output_type": "stream",
     "text": [
      "\u001b[32m[I 2021-06-29 13:22:40,727]\u001b[0m Trial 42 finished with value: 0.7777777910232544 and parameters: {'n_layers': 1, 'weight_decay': 6.116667286341215e-05, 'n_units_l0': 25, 'optimizer': 'RMSprop', 'rmsprop_learning_rate': 0.09928487230817068, 'rmsprop_decay': 0.9245139841134856, 'rmsprop_momentum': 0.026613669740361248}. Best is trial 37 with value: 0.9111111164093018.\u001b[0m\n"
     ]
    },
    {
     "name": "stdout",
     "output_type": "stream",
     "text": [
      "Test accuracy: 0.7777777910232544\n",
      "2/2 [==============================] - 0s 3ms/step - loss: 0.6437 - accuracy: 0.7311\n",
      "1/1 [==============================] - 0s 144ms/step - loss: 0.5251 - accuracy: 0.7778\n"
     ]
    },
    {
     "name": "stderr",
     "output_type": "stream",
     "text": [
      "\u001b[32m[I 2021-06-29 13:22:41,359]\u001b[0m Trial 43 finished with value: 0.7777777910232544 and parameters: {'n_layers': 1, 'weight_decay': 4.5573829728589864e-05, 'n_units_l0': 51, 'optimizer': 'RMSprop', 'rmsprop_learning_rate': 0.04383409871804698, 'rmsprop_decay': 0.9149054311361978, 'rmsprop_momentum': 0.004040522422577671}. Best is trial 37 with value: 0.9111111164093018.\u001b[0m\n"
     ]
    },
    {
     "name": "stdout",
     "output_type": "stream",
     "text": [
      "Test accuracy: 0.7777777910232544\n",
      "2/2 [==============================] - 0s 3ms/step - loss: 0.4956 - accuracy: 0.7642\n",
      "1/1 [==============================] - 0s 144ms/step - loss: 0.2320 - accuracy: 0.9111\n"
     ]
    },
    {
     "name": "stderr",
     "output_type": "stream",
     "text": [
      "\u001b[32m[I 2021-06-29 13:22:42,040]\u001b[0m Trial 44 finished with value: 0.9111111164093018 and parameters: {'n_layers': 1, 'weight_decay': 0.00017327178458436334, 'n_units_l0': 34, 'optimizer': 'RMSprop', 'rmsprop_learning_rate': 0.026826110212008626, 'rmsprop_decay': 0.8973085748867863, 'rmsprop_momentum': 0.011591736783072982}. Best is trial 37 with value: 0.9111111164093018.\u001b[0m\n"
     ]
    },
    {
     "name": "stdout",
     "output_type": "stream",
     "text": [
      "Test accuracy: 0.9111111164093018\n",
      "2/2 [==============================] - 0s 3ms/step - loss: 0.9359 - accuracy: 0.4292\n",
      "1/1 [==============================] - 0s 151ms/step - loss: 0.4410 - accuracy: 0.8000\n"
     ]
    },
    {
     "name": "stderr",
     "output_type": "stream",
     "text": [
      "\u001b[32m[I 2021-06-29 13:22:42,757]\u001b[0m Trial 45 finished with value: 0.800000011920929 and parameters: {'n_layers': 2, 'weight_decay': 0.000997043867885122, 'n_units_l0': 33, 'n_units_l1': 4, 'optimizer': 'RMSprop', 'rmsprop_learning_rate': 0.025917014714757332, 'rmsprop_decay': 0.8967385711964407, 'rmsprop_momentum': 0.09657265911807322}. Best is trial 37 with value: 0.9111111164093018.\u001b[0m\n"
     ]
    },
    {
     "name": "stdout",
     "output_type": "stream",
     "text": [
      "Test accuracy: 0.800000011920929\n",
      "2/2 [==============================] - 0s 3ms/step - loss: 0.9019 - accuracy: 0.5189\n",
      "1/1 [==============================] - 0s 144ms/step - loss: 0.9067 - accuracy: 0.5778\n"
     ]
    },
    {
     "name": "stderr",
     "output_type": "stream",
     "text": [
      "\u001b[32m[I 2021-06-29 13:22:43,446]\u001b[0m Trial 46 finished with value: 0.5777778029441833 and parameters: {'n_layers': 1, 'weight_decay': 0.0001350841066017596, 'n_units_l0': 125, 'optimizer': 'SGD', 'sgd_opt_learning_rate': 1.4774776264269115e-05, 'sgd_opt_momentum': 0.00041373878490931303}. Best is trial 37 with value: 0.9111111164093018.\u001b[0m\n"
     ]
    },
    {
     "name": "stdout",
     "output_type": "stream",
     "text": [
      "Test accuracy: 0.5777778029441833\n",
      "2/2 [==============================] - 0s 3ms/step - loss: 0.6830 - accuracy: 0.5330\n",
      "1/1 [==============================] - 0s 199ms/step - loss: 0.5885 - accuracy: 0.7333\n"
     ]
    },
    {
     "name": "stderr",
     "output_type": "stream",
     "text": [
      "\u001b[32m[I 2021-06-29 13:22:44,506]\u001b[0m Trial 47 finished with value: 0.7333333492279053 and parameters: {'n_layers': 2, 'weight_decay': 4.175728286847153e-09, 'n_units_l0': 56, 'n_units_l1': 5, 'optimizer': 'RMSprop', 'rmsprop_learning_rate': 0.009232563913387039, 'rmsprop_decay': 0.9403038352640131, 'rmsprop_momentum': 0.011172402714769897}. Best is trial 37 with value: 0.9111111164093018.\u001b[0m\n"
     ]
    },
    {
     "name": "stdout",
     "output_type": "stream",
     "text": [
      "Test accuracy: 0.7333333492279053\n",
      "2/2 [==============================] - 0s 4ms/step - loss: 0.6671 - accuracy: 0.6321\n",
      "1/1 [==============================] - 0s 157ms/step - loss: 0.3416 - accuracy: 0.8889\n"
     ]
    },
    {
     "name": "stderr",
     "output_type": "stream",
     "text": [
      "\u001b[32m[I 2021-06-29 13:22:45,176]\u001b[0m Trial 48 finished with value: 0.8888888955116272 and parameters: {'n_layers': 1, 'weight_decay': 0.0003662451430632665, 'n_units_l0': 81, 'optimizer': 'RMSprop', 'rmsprop_learning_rate': 0.028316726674447283, 'rmsprop_decay': 0.909909968616637, 'rmsprop_momentum': 0.001482825109676502}. Best is trial 37 with value: 0.9111111164093018.\u001b[0m\n"
     ]
    },
    {
     "name": "stdout",
     "output_type": "stream",
     "text": [
      "Test accuracy: 0.8888888955116272\n",
      "2/2 [==============================] - 0s 3ms/step - loss: 0.5790 - accuracy: 0.6887\n",
      "1/1 [==============================] - 0s 187ms/step - loss: 0.3033 - accuracy: 0.9111\n"
     ]
    },
    {
     "name": "stderr",
     "output_type": "stream",
     "text": [
      "\u001b[32m[I 2021-06-29 13:22:45,931]\u001b[0m Trial 49 finished with value: 0.9111111164093018 and parameters: {'n_layers': 1, 'weight_decay': 0.00034109901466949797, 'n_units_l0': 94, 'optimizer': 'RMSprop', 'rmsprop_learning_rate': 0.010800636332146847, 'rmsprop_decay': 0.9104000922402782, 'rmsprop_momentum': 0.0012704993468666964}. Best is trial 37 with value: 0.9111111164093018.\u001b[0m\n"
     ]
    },
    {
     "name": "stdout",
     "output_type": "stream",
     "text": [
      "Test accuracy: 0.9111111164093018\n",
      "2/2 [==============================] - 1s 3ms/step - loss: 0.6141 - accuracy: 0.6368\n",
      "1/1 [==============================] - 0s 176ms/step - loss: 0.4064 - accuracy: 0.8667\n"
     ]
    },
    {
     "name": "stderr",
     "output_type": "stream",
     "text": [
      "\u001b[32m[I 2021-06-29 13:22:46,754]\u001b[0m Trial 50 finished with value: 0.8666666746139526 and parameters: {'n_layers': 2, 'weight_decay': 0.0003270018256899584, 'n_units_l0': 96, 'n_units_l1': 6, 'optimizer': 'RMSprop', 'rmsprop_learning_rate': 0.01006801039201745, 'rmsprop_decay': 0.9121931955328605, 'rmsprop_momentum': 0.0013987267454817882}. Best is trial 37 with value: 0.9111111164093018.\u001b[0m\n"
     ]
    },
    {
     "name": "stdout",
     "output_type": "stream",
     "text": [
      "Test accuracy: 0.8666666746139526\n",
      "2/2 [==============================] - 0s 3ms/step - loss: 0.4862 - accuracy: 0.7217\n",
      "1/1 [==============================] - 0s 150ms/step - loss: 0.4254 - accuracy: 0.8222\n"
     ]
    },
    {
     "name": "stderr",
     "output_type": "stream",
     "text": [
      "\u001b[32m[I 2021-06-29 13:22:47,409]\u001b[0m Trial 51 finished with value: 0.8222222328186035 and parameters: {'n_layers': 1, 'weight_decay': 0.0004983363202141093, 'n_units_l0': 89, 'optimizer': 'RMSprop', 'rmsprop_learning_rate': 0.028206073652820716, 'rmsprop_decay': 0.894653993599054, 'rmsprop_momentum': 0.007997418874719843}. Best is trial 37 with value: 0.9111111164093018.\u001b[0m\n"
     ]
    },
    {
     "name": "stdout",
     "output_type": "stream",
     "text": [
      "Test accuracy: 0.8222222328186035\n",
      "2/2 [==============================] - 1s 3ms/step - loss: 0.7216 - accuracy: 0.5283\n",
      "1/1 [==============================] - 0s 152ms/step - loss: 0.3674 - accuracy: 0.7778\n"
     ]
    },
    {
     "name": "stderr",
     "output_type": "stream",
     "text": [
      "\u001b[32m[I 2021-06-29 13:22:48,164]\u001b[0m Trial 52 finished with value: 0.7777777910232544 and parameters: {'n_layers': 1, 'weight_decay': 3.1130953138859094e-05, 'n_units_l0': 105, 'optimizer': 'RMSprop', 'rmsprop_learning_rate': 0.01525942244222701, 'rmsprop_decay': 0.9086657148214475, 'rmsprop_momentum': 0.0017639345211688797}. Best is trial 37 with value: 0.9111111164093018.\u001b[0m\n"
     ]
    },
    {
     "name": "stdout",
     "output_type": "stream",
     "text": [
      "Test accuracy: 0.7777777910232544\n",
      "2/2 [==============================] - 1s 3ms/step - loss: 0.7058 - accuracy: 0.5142\n",
      "1/1 [==============================] - 0s 181ms/step - loss: 0.4049 - accuracy: 0.9333\n"
     ]
    },
    {
     "name": "stderr",
     "output_type": "stream",
     "text": [
      "\u001b[32m[I 2021-06-29 13:22:48,922]\u001b[0m Trial 53 finished with value: 0.9333333373069763 and parameters: {'n_layers': 2, 'weight_decay': 0.0003122482289325397, 'n_units_l0': 93, 'n_units_l1': 7, 'optimizer': 'RMSprop', 'rmsprop_learning_rate': 0.008257347924701607, 'rmsprop_decay': 0.913694321769107, 'rmsprop_momentum': 0.0013333222292887415}. Best is trial 53 with value: 0.9333333373069763.\u001b[0m\n"
     ]
    },
    {
     "name": "stdout",
     "output_type": "stream",
     "text": [
      "Test accuracy: 0.9333333373069763\n",
      "2/2 [==============================] - 0s 3ms/step - loss: 0.6582 - accuracy: 0.6132\n",
      "1/1 [==============================] - 0s 159ms/step - loss: 0.5228 - accuracy: 0.8667\n"
     ]
    },
    {
     "name": "stderr",
     "output_type": "stream",
     "text": [
      "\u001b[32m[I 2021-06-29 13:22:49,666]\u001b[0m Trial 54 finished with value: 0.8666666746139526 and parameters: {'n_layers': 2, 'weight_decay': 0.00024268411713799465, 'n_units_l0': 78, 'n_units_l1': 4, 'optimizer': 'RMSprop', 'rmsprop_learning_rate': 0.007613914474392368, 'rmsprop_decay': 0.9249359935838842, 'rmsprop_momentum': 0.0023014354022261145}. Best is trial 53 with value: 0.9333333373069763.\u001b[0m\n"
     ]
    },
    {
     "name": "stdout",
     "output_type": "stream",
     "text": [
      "Test accuracy: 0.8666666746139526\n",
      "2/2 [==============================] - 0s 3ms/step - loss: 0.8559 - accuracy: 0.4434\n",
      "1/1 [==============================] - 0s 142ms/step - loss: 0.5701 - accuracy: 0.7333\n"
     ]
    },
    {
     "name": "stderr",
     "output_type": "stream",
     "text": [
      "\u001b[32m[I 2021-06-29 13:22:50,327]\u001b[0m Trial 55 finished with value: 0.7333333492279053 and parameters: {'n_layers': 1, 'weight_decay': 0.0009450494615166669, 'n_units_l0': 113, 'optimizer': 'RMSprop', 'rmsprop_learning_rate': 0.004503861058572086, 'rmsprop_decay': 0.9166182690009359, 'rmsprop_momentum': 0.001306989881137322}. Best is trial 53 with value: 0.9333333373069763.\u001b[0m\n"
     ]
    },
    {
     "name": "stdout",
     "output_type": "stream",
     "text": [
      "Test accuracy: 0.7333333492279053\n",
      "2/2 [==============================] - 1s 9ms/step - loss: 0.7605 - accuracy: 0.4481\n",
      "1/1 [==============================] - 0s 182ms/step - loss: 0.8213 - accuracy: 0.4444\n"
     ]
    },
    {
     "name": "stderr",
     "output_type": "stream",
     "text": [
      "\u001b[32m[I 2021-06-29 13:22:51,137]\u001b[0m Trial 56 finished with value: 0.4444444477558136 and parameters: {'n_layers': 2, 'weight_decay': 0.00016826372110587977, 'n_units_l0': 81, 'n_units_l1': 7, 'optimizer': 'SGD', 'sgd_opt_learning_rate': 9.17573286077649e-05, 'sgd_opt_momentum': 0.0016986114243870694}. Best is trial 53 with value: 0.9333333373069763.\u001b[0m\n"
     ]
    },
    {
     "name": "stdout",
     "output_type": "stream",
     "text": [
      "Test accuracy: 0.4444444477558136\n",
      "2/2 [==============================] - 0s 3ms/step - loss: 0.6247 - accuracy: 0.6981\n",
      "1/1 [==============================] - 0s 138ms/step - loss: 0.3108 - accuracy: 0.8889\n"
     ]
    },
    {
     "name": "stderr",
     "output_type": "stream",
     "text": [
      "\u001b[32m[I 2021-06-29 13:22:51,777]\u001b[0m Trial 57 finished with value: 0.8888888955116272 and parameters: {'n_layers': 1, 'weight_decay': 0.00046404378766692363, 'n_units_l0': 23, 'optimizer': 'RMSprop', 'rmsprop_learning_rate': 0.031656135464900405, 'rmsprop_decay': 0.9085557920337355, 'rmsprop_momentum': 0.0004889447914512501}. Best is trial 53 with value: 0.9333333373069763.\u001b[0m\n"
     ]
    },
    {
     "name": "stdout",
     "output_type": "stream",
     "text": [
      "Test accuracy: 0.8888888955116272\n",
      "2/2 [==============================] - 1s 3ms/step - loss: 0.8327 - accuracy: 0.5283\n",
      "1/1 [==============================] - 0s 164ms/step - loss: 0.6565 - accuracy: 0.6000\n"
     ]
    },
    {
     "name": "stderr",
     "output_type": "stream",
     "text": [
      "\u001b[32m[I 2021-06-29 13:22:52,800]\u001b[0m Trial 58 finished with value: 0.6000000238418579 and parameters: {'n_layers': 2, 'weight_decay': 0.0005427786097959167, 'n_units_l0': 19, 'n_units_l1': 5, 'optimizer': 'RMSprop', 'rmsprop_learning_rate': 0.0014248835692898486, 'rmsprop_decay': 0.8807723988590417, 'rmsprop_momentum': 0.0001676556463134979}. Best is trial 53 with value: 0.9333333373069763.\u001b[0m\n"
     ]
    },
    {
     "name": "stdout",
     "output_type": "stream",
     "text": [
      "Test accuracy: 0.6000000238418579\n",
      "2/2 [==============================] - 0s 3ms/step - loss: 0.6267 - accuracy: 0.6462\n",
      "1/1 [==============================] - 0s 159ms/step - loss: 0.3781 - accuracy: 0.8444\n"
     ]
    },
    {
     "name": "stderr",
     "output_type": "stream",
     "text": [
      "\u001b[32m[I 2021-06-29 13:22:53,481]\u001b[0m Trial 59 finished with value: 0.8444444537162781 and parameters: {'n_layers': 1, 'weight_decay': 0.00032273652976713723, 'n_units_l0': 16, 'optimizer': 'RMSprop', 'rmsprop_learning_rate': 0.05721712396098643, 'rmsprop_decay': 0.9080817522543612, 'rmsprop_momentum': 0.0006499405341586464}. Best is trial 53 with value: 0.9333333373069763.\u001b[0m\n"
     ]
    },
    {
     "name": "stdout",
     "output_type": "stream",
     "text": [
      "Test accuracy: 0.8444444537162781\n",
      "2/2 [==============================] - 0s 3ms/step - loss: 0.8158 - accuracy: 0.5000\n",
      "1/1 [==============================] - 0s 155ms/step - loss: 0.5824 - accuracy: 0.7111\n"
     ]
    },
    {
     "name": "stderr",
     "output_type": "stream",
     "text": [
      "\u001b[32m[I 2021-06-29 13:22:54,211]\u001b[0m Trial 60 finished with value: 0.7111111283302307 and parameters: {'n_layers': 2, 'weight_decay': 0.0009179515223132128, 'n_units_l0': 22, 'n_units_l1': 16, 'optimizer': 'RMSprop', 'rmsprop_learning_rate': 0.013314467571579306, 'rmsprop_decay': 0.8905194208620599, 'rmsprop_momentum': 0.03449953525654775}. Best is trial 53 with value: 0.9333333373069763.\u001b[0m\n"
     ]
    },
    {
     "name": "stdout",
     "output_type": "stream",
     "text": [
      "Test accuracy: 0.7111111283302307\n",
      "2/2 [==============================] - 0s 3ms/step - loss: 0.5679 - accuracy: 0.6745\n",
      "1/1 [==============================] - 0s 176ms/step - loss: 0.4868 - accuracy: 0.8000\n"
     ]
    },
    {
     "name": "stderr",
     "output_type": "stream",
     "text": [
      "\u001b[32m[I 2021-06-29 13:22:54,873]\u001b[0m Trial 61 finished with value: 0.800000011920929 and parameters: {'n_layers': 1, 'weight_decay': 0.00015812050533615932, 'n_units_l0': 23, 'optimizer': 'RMSprop', 'rmsprop_learning_rate': 0.028841317173368068, 'rmsprop_decay': 0.9104183160625092, 'rmsprop_momentum': 0.0028011445357295508}. Best is trial 53 with value: 0.9333333373069763.\u001b[0m\n"
     ]
    },
    {
     "name": "stdout",
     "output_type": "stream",
     "text": [
      "Test accuracy: 0.800000011920929\n",
      "2/2 [==============================] - 0s 3ms/step - loss: 0.5462 - accuracy: 0.7028\n",
      "1/1 [==============================] - 0s 170ms/step - loss: 0.3285 - accuracy: 0.9111\n"
     ]
    },
    {
     "name": "stderr",
     "output_type": "stream",
     "text": [
      "\u001b[32m[I 2021-06-29 13:22:55,528]\u001b[0m Trial 62 finished with value: 0.9111111164093018 and parameters: {'n_layers': 1, 'weight_decay': 0.0005519339314643646, 'n_units_l0': 45, 'optimizer': 'RMSprop', 'rmsprop_learning_rate': 0.02006432542995962, 'rmsprop_decay': 0.9274941699792323, 'rmsprop_momentum': 0.0004307769317617737}. Best is trial 53 with value: 0.9333333373069763.\u001b[0m\n"
     ]
    },
    {
     "name": "stdout",
     "output_type": "stream",
     "text": [
      "Test accuracy: 0.9111111164093018\n",
      "2/2 [==============================] - 0s 3ms/step - loss: 0.5035 - accuracy: 0.7642\n",
      "1/1 [==============================] - 0s 151ms/step - loss: 0.3545 - accuracy: 0.8889\n"
     ]
    },
    {
     "name": "stderr",
     "output_type": "stream",
     "text": [
      "\u001b[32m[I 2021-06-29 13:22:56,185]\u001b[0m Trial 63 finished with value: 0.8888888955116272 and parameters: {'n_layers': 1, 'weight_decay': 0.0006604829770407183, 'n_units_l0': 43, 'optimizer': 'RMSprop', 'rmsprop_learning_rate': 0.01945806871172829, 'rmsprop_decay': 0.9292319011299375, 'rmsprop_momentum': 0.0004071430243270625}. Best is trial 53 with value: 0.9333333373069763.\u001b[0m\n"
     ]
    },
    {
     "name": "stdout",
     "output_type": "stream",
     "text": [
      "Test accuracy: 0.8888888955116272\n",
      "2/2 [==============================] - 0s 4ms/step - loss: 0.5864 - accuracy: 0.6462\n",
      "1/1 [==============================] - 0s 181ms/step - loss: 0.3687 - accuracy: 0.8000\n"
     ]
    },
    {
     "name": "stderr",
     "output_type": "stream",
     "text": [
      "\u001b[32m[I 2021-06-29 13:22:56,857]\u001b[0m Trial 64 finished with value: 0.800000011920929 and parameters: {'n_layers': 1, 'weight_decay': 3.572851615387338e-05, 'n_units_l0': 40, 'optimizer': 'RMSprop', 'rmsprop_learning_rate': 0.01902055467099342, 'rmsprop_decay': 0.9447143631515731, 'rmsprop_momentum': 0.00014925770933144005}. Best is trial 53 with value: 0.9333333373069763.\u001b[0m\n"
     ]
    },
    {
     "name": "stdout",
     "output_type": "stream",
     "text": [
      "Test accuracy: 0.800000011920929\n",
      "2/2 [==============================] - 0s 4ms/step - loss: 0.7319 - accuracy: 0.4858\n",
      "1/1 [==============================] - 0s 179ms/step - loss: 0.6794 - accuracy: 0.6222\n"
     ]
    },
    {
     "name": "stderr",
     "output_type": "stream",
     "text": [
      "\u001b[32m[I 2021-06-29 13:22:57,553]\u001b[0m Trial 65 finished with value: 0.6222222447395325 and parameters: {'n_layers': 1, 'weight_decay': 8.06084901373227e-06, 'n_units_l0': 56, 'optimizer': 'Adam', 'adam_learning_rate': 0.0035151755562520086}. Best is trial 53 with value: 0.9333333373069763.\u001b[0m\n"
     ]
    },
    {
     "name": "stdout",
     "output_type": "stream",
     "text": [
      "Test accuracy: 0.6222222447395325\n",
      "2/2 [==============================] - 0s 3ms/step - loss: 0.6992 - accuracy: 0.5896\n",
      "1/1 [==============================] - 0s 167ms/step - loss: 0.6389 - accuracy: 0.6667\n"
     ]
    },
    {
     "name": "stderr",
     "output_type": "stream",
     "text": [
      "\u001b[32m[I 2021-06-29 13:22:58,256]\u001b[0m Trial 66 finished with value: 0.6666666865348816 and parameters: {'n_layers': 1, 'weight_decay': 0.000636601042758495, 'n_units_l0': 44, 'optimizer': 'RMSprop', 'rmsprop_learning_rate': 0.005523017903640817, 'rmsprop_decay': 0.9204175105328115, 'rmsprop_momentum': 0.0006281920608673711}. Best is trial 53 with value: 0.9333333373069763.\u001b[0m\n"
     ]
    },
    {
     "name": "stdout",
     "output_type": "stream",
     "text": [
      "Test accuracy: 0.6666666865348816\n",
      "2/2 [==============================] - 0s 2ms/step - loss: 0.5929 - accuracy: 0.7123\n",
      "1/1 [==============================] - 0s 153ms/step - loss: 0.3841 - accuracy: 0.7556\n"
     ]
    },
    {
     "name": "stderr",
     "output_type": "stream",
     "text": [
      "\u001b[32m[I 2021-06-29 13:22:58,901]\u001b[0m Trial 67 finished with value: 0.7555555701255798 and parameters: {'n_layers': 1, 'weight_decay': 0.00010903797152376117, 'n_units_l0': 33, 'optimizer': 'RMSprop', 'rmsprop_learning_rate': 0.012886677487944387, 'rmsprop_decay': 0.9312855937651969, 'rmsprop_momentum': 0.0004233760013084355}. Best is trial 53 with value: 0.9333333373069763.\u001b[0m\n"
     ]
    },
    {
     "name": "stdout",
     "output_type": "stream",
     "text": [
      "Test accuracy: 0.7555555701255798\n",
      "2/2 [==============================] - 1s 3ms/step - loss: 0.5274 - accuracy: 0.7075\n",
      "1/1 [==============================] - 0s 172ms/step - loss: 1.1061 - accuracy: 0.6667\n"
     ]
    },
    {
     "name": "stderr",
     "output_type": "stream",
     "text": [
      "\u001b[32m[I 2021-06-29 13:22:59,759]\u001b[0m Trial 68 finished with value: 0.6666666865348816 and parameters: {'n_layers': 3, 'weight_decay': 0.0002348439412006337, 'n_units_l0': 37, 'n_units_l1': 9, 'n_units_l2': 4, 'optimizer': 'RMSprop', 'rmsprop_learning_rate': 0.046680470766536884, 'rmsprop_decay': 0.917692648576105, 'rmsprop_momentum': 4.115946288649875e-05}. Best is trial 53 with value: 0.9333333373069763.\u001b[0m\n"
     ]
    },
    {
     "name": "stdout",
     "output_type": "stream",
     "text": [
      "Test accuracy: 0.6666666865348816\n",
      "2/2 [==============================] - 0s 3ms/step - loss: 0.8707 - accuracy: 0.6179\n",
      "1/1 [==============================] - 0s 199ms/step - loss: 0.7386 - accuracy: 0.8000\n"
     ]
    },
    {
     "name": "stderr",
     "output_type": "stream",
     "text": [
      "\u001b[32m[I 2021-06-29 13:23:00,547]\u001b[0m Trial 69 finished with value: 0.800000011920929 and parameters: {'n_layers': 2, 'weight_decay': 7.97031617619264e-10, 'n_units_l0': 74, 'n_units_l1': 6, 'optimizer': 'RMSprop', 'rmsprop_learning_rate': 0.0702240173911986, 'rmsprop_decay': 0.9262810226417739, 'rmsprop_momentum': 0.002086845291207048}. Best is trial 53 with value: 0.9333333373069763.\u001b[0m\n"
     ]
    },
    {
     "name": "stdout",
     "output_type": "stream",
     "text": [
      "Test accuracy: 0.800000011920929\n",
      "2/2 [==============================] - 1s 3ms/step - loss: 0.6923 - accuracy: 0.5708\n",
      "1/1 [==============================] - 0s 145ms/step - loss: 0.3457 - accuracy: 0.8222\n"
     ]
    },
    {
     "name": "stderr",
     "output_type": "stream",
     "text": [
      "\u001b[32m[I 2021-06-29 13:23:01,462]\u001b[0m Trial 70 finished with value: 0.8222222328186035 and parameters: {'n_layers': 1, 'weight_decay': 2.0025752417094178e-05, 'n_units_l0': 50, 'optimizer': 'RMSprop', 'rmsprop_learning_rate': 0.02216113252037409, 'rmsprop_decay': 0.929450115706681, 'rmsprop_momentum': 0.0003237106229164344}. Best is trial 53 with value: 0.9333333373069763.\u001b[0m\n"
     ]
    },
    {
     "name": "stdout",
     "output_type": "stream",
     "text": [
      "Test accuracy: 0.8222222328186035\n",
      "2/2 [==============================] - 0s 3ms/step - loss: 0.7521 - accuracy: 0.5613\n",
      "1/1 [==============================] - 0s 145ms/step - loss: 0.3778 - accuracy: 0.8222\n"
     ]
    },
    {
     "name": "stderr",
     "output_type": "stream",
     "text": [
      "\u001b[32m[I 2021-06-29 13:23:02,100]\u001b[0m Trial 71 finished with value: 0.8222222328186035 and parameters: {'n_layers': 1, 'weight_decay': 0.0003522796400285107, 'n_units_l0': 89, 'optimizer': 'RMSprop', 'rmsprop_learning_rate': 0.0347764084493342, 'rmsprop_decay': 0.9064395388157965, 'rmsprop_momentum': 0.00047698182904781637}. Best is trial 53 with value: 0.9333333373069763.\u001b[0m\n"
     ]
    },
    {
     "name": "stdout",
     "output_type": "stream",
     "text": [
      "Test accuracy: 0.8222222328186035\n",
      "2/2 [==============================] - 0s 3ms/step - loss: 0.7989 - accuracy: 0.5519\n",
      "1/1 [==============================] - 0s 145ms/step - loss: 0.4188 - accuracy: 0.8444\n"
     ]
    },
    {
     "name": "stderr",
     "output_type": "stream",
     "text": [
      "\u001b[32m[I 2021-06-29 13:23:02,742]\u001b[0m Trial 72 finished with value: 0.8444444537162781 and parameters: {'n_layers': 1, 'weight_decay': 0.0006593792975215399, 'n_units_l0': 60, 'optimizer': 'RMSprop', 'rmsprop_learning_rate': 0.011775185790137307, 'rmsprop_decay': 0.913125144823179, 'rmsprop_momentum': 0.0010511748483142023}. Best is trial 53 with value: 0.9333333373069763.\u001b[0m\n"
     ]
    },
    {
     "name": "stdout",
     "output_type": "stream",
     "text": [
      "Test accuracy: 0.8444444537162781\n",
      "2/2 [==============================] - 0s 3ms/step - loss: 0.5244 - accuracy: 0.7358\n",
      "1/1 [==============================] - 0s 149ms/step - loss: 0.2961 - accuracy: 0.8667\n"
     ]
    },
    {
     "name": "stderr",
     "output_type": "stream",
     "text": [
      "\u001b[32m[I 2021-06-29 13:23:03,380]\u001b[0m Trial 73 finished with value: 0.8666666746139526 and parameters: {'n_layers': 1, 'weight_decay': 0.00021159933997880344, 'n_units_l0': 40, 'optimizer': 'RMSprop', 'rmsprop_learning_rate': 0.01981120452447698, 'rmsprop_decay': 0.9349250067539371, 'rmsprop_momentum': 0.0002304107611763024}. Best is trial 53 with value: 0.9333333373069763.\u001b[0m\n"
     ]
    },
    {
     "name": "stdout",
     "output_type": "stream",
     "text": [
      "Test accuracy: 0.8666666746139526\n",
      "2/2 [==============================] - 0s 5ms/step - loss: 1.1449 - accuracy: 0.5755\n",
      "1/1 [==============================] - 0s 166ms/step - loss: 1.2216 - accuracy: 0.7111\n"
     ]
    },
    {
     "name": "stderr",
     "output_type": "stream",
     "text": [
      "\u001b[32m[I 2021-06-29 13:23:04,064]\u001b[0m Trial 74 finished with value: 0.7111111283302307 and parameters: {'n_layers': 1, 'weight_decay': 2.0691620504546828e-10, 'n_units_l0': 106, 'optimizer': 'RMSprop', 'rmsprop_learning_rate': 0.06408692923349979, 'rmsprop_decay': 0.9211371311830095, 'rmsprop_momentum': 0.0012025740218120104}. Best is trial 53 with value: 0.9333333373069763.\u001b[0m\n"
     ]
    },
    {
     "name": "stdout",
     "output_type": "stream",
     "text": [
      "Test accuracy: 0.7111111283302307\n",
      "2/2 [==============================] - 0s 2ms/step - loss: 0.8698 - accuracy: 0.6132\n",
      "1/1 [==============================] - 0s 141ms/step - loss: 0.5894 - accuracy: 0.7556\n"
     ]
    },
    {
     "name": "stderr",
     "output_type": "stream",
     "text": [
      "\u001b[32m[I 2021-06-29 13:23:04,678]\u001b[0m Trial 75 finished with value: 0.7555555701255798 and parameters: {'n_layers': 1, 'weight_decay': 6.5969659003569e-05, 'n_units_l0': 128, 'optimizer': 'RMSprop', 'rmsprop_learning_rate': 0.029231416150356737, 'rmsprop_decay': 0.8927143229951385, 'rmsprop_momentum': 0.01022019114861089}. Best is trial 53 with value: 0.9333333373069763.\u001b[0m\n"
     ]
    },
    {
     "name": "stdout",
     "output_type": "stream",
     "text": [
      "Test accuracy: 0.7555555701255798\n",
      "2/2 [==============================] - 0s 2ms/step - loss: 0.6304 - accuracy: 0.6698\n",
      "1/1 [==============================] - 0s 146ms/step - loss: 0.5176 - accuracy: 0.7556\n"
     ]
    },
    {
     "name": "stderr",
     "output_type": "stream",
     "text": [
      "\u001b[32m[I 2021-06-29 13:23:05,319]\u001b[0m Trial 76 finished with value: 0.7555555701255798 and parameters: {'n_layers': 1, 'weight_decay': 0.0003338729192574033, 'n_units_l0': 31, 'optimizer': 'RMSprop', 'rmsprop_learning_rate': 0.006227671537796238, 'rmsprop_decay': 0.9040525760869698, 'rmsprop_momentum': 0.0007893503208324485}. Best is trial 53 with value: 0.9333333373069763.\u001b[0m\n"
     ]
    },
    {
     "name": "stdout",
     "output_type": "stream",
     "text": [
      "Test accuracy: 0.7555555701255798\n",
      "2/2 [==============================] - 1s 3ms/step - loss: 0.6247 - accuracy: 0.6651\n",
      "1/1 [==============================] - 0s 169ms/step - loss: 0.5159 - accuracy: 0.7556\n"
     ]
    },
    {
     "name": "stderr",
     "output_type": "stream",
     "text": [
      "\u001b[32m[I 2021-06-29 13:23:06,115]\u001b[0m Trial 77 finished with value: 0.7555555701255798 and parameters: {'n_layers': 3, 'weight_decay': 0.0006902659059467648, 'n_units_l0': 23, 'n_units_l1': 4, 'n_units_l2': 17, 'optimizer': 'RMSprop', 'rmsprop_learning_rate': 0.04319452050921759, 'rmsprop_decay': 0.9264985555401875, 'rmsprop_momentum': 0.0001407257390771186}. Best is trial 53 with value: 0.9333333373069763.\u001b[0m\n"
     ]
    },
    {
     "name": "stdout",
     "output_type": "stream",
     "text": [
      "Test accuracy: 0.7555555701255798\n",
      "2/2 [==============================] - 1s 3ms/step - loss: 1.1085 - accuracy: 0.3962\n",
      "1/1 [==============================] - 0s 175ms/step - loss: 1.0328 - accuracy: 0.4000\n"
     ]
    },
    {
     "name": "stderr",
     "output_type": "stream",
     "text": [
      "\u001b[32m[I 2021-06-29 13:23:06,864]\u001b[0m Trial 78 finished with value: 0.4000000059604645 and parameters: {'n_layers': 1, 'weight_decay': 0.0004086738223178686, 'n_units_l0': 17, 'optimizer': 'RMSprop', 'rmsprop_learning_rate': 1.236008000741747e-05, 'rmsprop_decay': 0.9183282445412636, 'rmsprop_momentum': 0.0005272035999115385}. Best is trial 53 with value: 0.9333333373069763.\u001b[0m\n"
     ]
    },
    {
     "name": "stdout",
     "output_type": "stream",
     "text": [
      "Test accuracy: 0.4000000059604645\n",
      "2/2 [==============================] - 0s 3ms/step - loss: 0.6950 - accuracy: 0.5330\n",
      "1/1 [==============================] - 0s 148ms/step - loss: 0.7158 - accuracy: 0.5333\n"
     ]
    },
    {
     "name": "stderr",
     "output_type": "stream",
     "text": [
      "\u001b[32m[I 2021-06-29 13:23:07,520]\u001b[0m Trial 79 finished with value: 0.5333333611488342 and parameters: {'n_layers': 1, 'weight_decay': 0.00010869971573137966, 'n_units_l0': 46, 'optimizer': 'Adam', 'adam_learning_rate': 0.00021383074829752716}. Best is trial 53 with value: 0.9333333373069763.\u001b[0m\n"
     ]
    },
    {
     "name": "stdout",
     "output_type": "stream",
     "text": [
      "Test accuracy: 0.5333333611488342\n",
      "2/2 [==============================] - 0s 4ms/step - loss: 0.6125 - accuracy: 0.6887\n",
      "1/1 [==============================] - 0s 175ms/step - loss: 0.5713 - accuracy: 0.6889\n"
     ]
    },
    {
     "name": "stderr",
     "output_type": "stream",
     "text": [
      "\u001b[32m[I 2021-06-29 13:23:08,163]\u001b[0m Trial 80 finished with value: 0.6888889074325562 and parameters: {'n_layers': 1, 'weight_decay': 0.0009395312509940097, 'n_units_l0': 26, 'optimizer': 'SGD', 'sgd_opt_learning_rate': 0.004817431336457995, 'sgd_opt_momentum': 0.00019522750049744838}. Best is trial 53 with value: 0.9333333373069763.\u001b[0m\n"
     ]
    },
    {
     "name": "stdout",
     "output_type": "stream",
     "text": [
      "Test accuracy: 0.6888889074325562\n",
      "2/2 [==============================] - 0s 2ms/step - loss: 0.7529 - accuracy: 0.5519\n",
      "1/1 [==============================] - 0s 133ms/step - loss: 0.4866 - accuracy: 0.7778\n"
     ]
    },
    {
     "name": "stderr",
     "output_type": "stream",
     "text": [
      "\u001b[32m[I 2021-06-29 13:23:08,787]\u001b[0m Trial 81 finished with value: 0.7777777910232544 and parameters: {'n_layers': 1, 'weight_decay': 0.00026569976080038465, 'n_units_l0': 69, 'optimizer': 'RMSprop', 'rmsprop_learning_rate': 0.020904628650319165, 'rmsprop_decay': 0.9118516759017875, 'rmsprop_momentum': 0.001626390156472003}. Best is trial 53 with value: 0.9333333373069763.\u001b[0m\n"
     ]
    },
    {
     "name": "stdout",
     "output_type": "stream",
     "text": [
      "Test accuracy: 0.7777777910232544\n",
      "2/2 [==============================] - 1s 3ms/step - loss: 0.6616 - accuracy: 0.6321\n",
      "1/1 [==============================] - 0s 132ms/step - loss: 0.3577 - accuracy: 0.8444\n"
     ]
    },
    {
     "name": "stderr",
     "output_type": "stream",
     "text": [
      "\u001b[32m[I 2021-06-29 13:23:09,759]\u001b[0m Trial 82 finished with value: 0.8444444537162781 and parameters: {'n_layers': 1, 'weight_decay': 0.00016340244440768385, 'n_units_l0': 36, 'optimizer': 'RMSprop', 'rmsprop_learning_rate': 0.016027074917006744, 'rmsprop_decay': 0.9384533275791115, 'rmsprop_momentum': 0.0032976701078426146}. Best is trial 53 with value: 0.9333333373069763.\u001b[0m\n"
     ]
    },
    {
     "name": "stdout",
     "output_type": "stream",
     "text": [
      "Test accuracy: 0.8444444537162781\n",
      "2/2 [==============================] - 0s 3ms/step - loss: 0.6967 - accuracy: 0.5991\n",
      "1/1 [==============================] - 0s 137ms/step - loss: 0.5911 - accuracy: 0.7556\n"
     ]
    },
    {
     "name": "stderr",
     "output_type": "stream",
     "text": [
      "\u001b[32m[I 2021-06-29 13:23:10,419]\u001b[0m Trial 83 finished with value: 0.7555555701255798 and parameters: {'n_layers': 1, 'weight_decay': 5.380807853778187e-05, 'n_units_l0': 98, 'optimizer': 'RMSprop', 'rmsprop_learning_rate': 0.03385776143764283, 'rmsprop_decay': 0.9020127001006509, 'rmsprop_momentum': 0.005250366891350863}. Best is trial 53 with value: 0.9333333373069763.\u001b[0m\n"
     ]
    },
    {
     "name": "stdout",
     "output_type": "stream",
     "text": [
      "Test accuracy: 0.7555555701255798\n",
      "2/2 [==============================] - 0s 4ms/step - loss: 0.6890 - accuracy: 0.5943\n",
      "1/1 [==============================] - 0s 152ms/step - loss: 0.3971 - accuracy: 0.8222\n"
     ]
    },
    {
     "name": "stderr",
     "output_type": "stream",
     "text": [
      "\u001b[32m[I 2021-06-29 13:23:11,105]\u001b[0m Trial 84 finished with value: 0.8222222328186035 and parameters: {'n_layers': 1, 'weight_decay': 0.0004605495507848215, 'n_units_l0': 86, 'optimizer': 'RMSprop', 'rmsprop_learning_rate': 0.007438926653693746, 'rmsprop_decay': 0.9881654452650833, 'rmsprop_momentum': 0.016423441216069774}. Best is trial 53 with value: 0.9333333373069763.\u001b[0m\n"
     ]
    },
    {
     "name": "stdout",
     "output_type": "stream",
     "text": [
      "Test accuracy: 0.8222222328186035\n",
      "2/2 [==============================] - 0s 3ms/step - loss: 0.7744 - accuracy: 0.4670\n",
      "1/1 [==============================] - 0s 165ms/step - loss: 0.6929 - accuracy: 0.5333\n"
     ]
    },
    {
     "name": "stderr",
     "output_type": "stream",
     "text": [
      "\u001b[32m[I 2021-06-29 13:23:11,845]\u001b[0m Trial 85 finished with value: 0.5333333611488342 and parameters: {'n_layers': 3, 'weight_decay': 8.575907758364024e-05, 'n_units_l0': 20, 'n_units_l1': 8, 'n_units_l2': 7, 'optimizer': 'RMSprop', 'rmsprop_learning_rate': 0.0519154375830571, 'rmsprop_decay': 0.9290628268881579, 'rmsprop_momentum': 0.001021400521975871}. Best is trial 53 with value: 0.9333333373069763.\u001b[0m\n"
     ]
    },
    {
     "name": "stdout",
     "output_type": "stream",
     "text": [
      "Test accuracy: 0.5333333611488342\n",
      "2/2 [==============================] - 0s 2ms/step - loss: 0.5492 - accuracy: 0.6840\n",
      "1/1 [==============================] - 0s 154ms/step - loss: 0.3554 - accuracy: 0.8222\n"
     ]
    },
    {
     "name": "stderr",
     "output_type": "stream",
     "text": [
      "\u001b[32m[I 2021-06-29 13:23:12,481]\u001b[0m Trial 86 finished with value: 0.8222222328186035 and parameters: {'n_layers': 1, 'weight_decay': 5.250200985047477e-07, 'n_units_l0': 31, 'optimizer': 'RMSprop', 'rmsprop_learning_rate': 0.024303642549127816, 'rmsprop_decay': 0.9437382568498105, 'rmsprop_momentum': 0.0003180202248589042}. Best is trial 53 with value: 0.9333333373069763.\u001b[0m\n"
     ]
    },
    {
     "name": "stdout",
     "output_type": "stream",
     "text": [
      "Test accuracy: 0.8222222328186035\n",
      "2/2 [==============================] - 0s 3ms/step - loss: 0.9155 - accuracy: 0.4575\n",
      "1/1 [==============================] - 0s 155ms/step - loss: 0.6411 - accuracy: 0.8000\n"
     ]
    },
    {
     "name": "stderr",
     "output_type": "stream",
     "text": [
      "\u001b[32m[I 2021-06-29 13:23:13,179]\u001b[0m Trial 87 finished with value: 0.800000011920929 and parameters: {'n_layers': 2, 'weight_decay': 0.0007073757126289514, 'n_units_l0': 50, 'n_units_l1': 23, 'optimizer': 'RMSprop', 'rmsprop_learning_rate': 0.035718082397033925, 'rmsprop_decay': 0.9061000550810836, 'rmsprop_momentum': 0.000712689256152265}. Best is trial 53 with value: 0.9333333373069763.\u001b[0m\n"
     ]
    },
    {
     "name": "stdout",
     "output_type": "stream",
     "text": [
      "Test accuracy: 0.800000011920929\n",
      "2/2 [==============================] - 0s 4ms/step - loss: 0.6198 - accuracy: 0.6038\n",
      "1/1 [==============================] - 0s 155ms/step - loss: 0.5055 - accuracy: 0.7111\n"
     ]
    },
    {
     "name": "stderr",
     "output_type": "stream",
     "text": [
      "\u001b[32m[I 2021-06-29 13:23:13,871]\u001b[0m Trial 88 finished with value: 0.7111111283302307 and parameters: {'n_layers': 2, 'weight_decay': 0.00016783736773101952, 'n_units_l0': 116, 'n_units_l1': 11, 'optimizer': 'RMSprop', 'rmsprop_learning_rate': 0.011284252129297949, 'rmsprop_decay': 0.8982644225618305, 'rmsprop_momentum': 0.001916509258042416}. Best is trial 53 with value: 0.9333333373069763.\u001b[0m\n"
     ]
    },
    {
     "name": "stdout",
     "output_type": "stream",
     "text": [
      "Test accuracy: 0.7111111283302307\n",
      "2/2 [==============================] - 0s 3ms/step - loss: 0.8073 - accuracy: 0.5613\n",
      "1/1 [==============================] - 0s 176ms/step - loss: 0.8022 - accuracy: 0.5333\n"
     ]
    },
    {
     "name": "stderr",
     "output_type": "stream",
     "text": [
      "\u001b[32m[I 2021-06-29 13:23:14,533]\u001b[0m Trial 89 finished with value: 0.5333333611488342 and parameters: {'n_layers': 1, 'weight_decay': 1.8114931101931718e-08, 'n_units_l0': 13, 'optimizer': 'RMSprop', 'rmsprop_learning_rate': 0.002505940885745089, 'rmsprop_decay': 0.885589142134825, 'rmsprop_momentum': 0.0002624801205729515}. Best is trial 53 with value: 0.9333333373069763.\u001b[0m\n"
     ]
    },
    {
     "name": "stdout",
     "output_type": "stream",
     "text": [
      "Test accuracy: 0.5333333611488342\n",
      "2/2 [==============================] - 1s 2ms/step - loss: 0.6461 - accuracy: 0.5708\n",
      "1/1 [==============================] - 0s 174ms/step - loss: 0.5140 - accuracy: 0.8000\n"
     ]
    },
    {
     "name": "stderr",
     "output_type": "stream",
     "text": [
      "\u001b[32m[I 2021-06-29 13:23:15,334]\u001b[0m Trial 90 finished with value: 0.800000011920929 and parameters: {'n_layers': 3, 'weight_decay': 1.0116785631198306e-07, 'n_units_l0': 41, 'n_units_l1': 4, 'n_units_l2': 13, 'optimizer': 'RMSprop', 'rmsprop_learning_rate': 0.008606444052106263, 'rmsprop_decay': 0.9132912115101047, 'rmsprop_momentum': 0.007706020080670225}. Best is trial 53 with value: 0.9333333373069763.\u001b[0m\n"
     ]
    },
    {
     "name": "stdout",
     "output_type": "stream",
     "text": [
      "Test accuracy: 0.800000011920929\n",
      "2/2 [==============================] - 1s 3ms/step - loss: 0.6191 - accuracy: 0.6557\n",
      "1/1 [==============================] - 0s 131ms/step - loss: 0.4020 - accuracy: 0.8444\n"
     ]
    },
    {
     "name": "stderr",
     "output_type": "stream",
     "text": [
      "\u001b[32m[I 2021-06-29 13:23:16,057]\u001b[0m Trial 91 finished with value: 0.8444444537162781 and parameters: {'n_layers': 1, 'weight_decay': 0.00020770740409668044, 'n_units_l0': 40, 'optimizer': 'RMSprop', 'rmsprop_learning_rate': 0.018685079466179425, 'rmsprop_decay': 0.9342372772256757, 'rmsprop_momentum': 0.0004201661850935946}. Best is trial 53 with value: 0.9333333373069763.\u001b[0m\n"
     ]
    },
    {
     "name": "stdout",
     "output_type": "stream",
     "text": [
      "Test accuracy: 0.8444444537162781\n",
      "2/2 [==============================] - 0s 2ms/step - loss: 0.7128 - accuracy: 0.5566\n",
      "1/1 [==============================] - 0s 160ms/step - loss: 0.4054 - accuracy: 0.7778\n"
     ]
    },
    {
     "name": "stderr",
     "output_type": "stream",
     "text": [
      "\u001b[32m[I 2021-06-29 13:23:16,685]\u001b[0m Trial 92 finished with value: 0.7777777910232544 and parameters: {'n_layers': 1, 'weight_decay': 0.000418900911525891, 'n_units_l0': 35, 'optimizer': 'RMSprop', 'rmsprop_learning_rate': 0.023591989924869772, 'rmsprop_decay': 0.9363063956865764, 'rmsprop_momentum': 0.00023892280540902978}. Best is trial 53 with value: 0.9333333373069763.\u001b[0m\n"
     ]
    },
    {
     "name": "stdout",
     "output_type": "stream",
     "text": [
      "Test accuracy: 0.7777777910232544\n",
      "2/2 [==============================] - 1s 3ms/step - loss: 0.7689 - accuracy: 0.4575\n",
      "1/1 [==============================] - 0s 213ms/step - loss: 0.7077 - accuracy: 0.6000\n"
     ]
    },
    {
     "name": "stderr",
     "output_type": "stream",
     "text": [
      "\u001b[32m[I 2021-06-29 13:23:17,925]\u001b[0m Trial 93 finished with value: 0.6000000238418579 and parameters: {'n_layers': 4, 'weight_decay': 0.0003109562503100719, 'n_units_l0': 98, 'n_units_l1': 6, 'n_units_l2': 117, 'n_units_l3': 47, 'optimizer': 'RMSprop', 'rmsprop_learning_rate': 0.009447282997160007, 'rmsprop_decay': 0.9159971073661874, 'rmsprop_momentum': 0.001407018641104739}. Best is trial 53 with value: 0.9333333373069763.\u001b[0m\n"
     ]
    },
    {
     "name": "stdout",
     "output_type": "stream",
     "text": [
      "Test accuracy: 0.6000000238418579\n",
      "2/2 [==============================] - 0s 3ms/step - loss: 0.6610 - accuracy: 0.6085\n",
      "1/1 [==============================] - 0s 140ms/step - loss: 0.4326 - accuracy: 0.7778\n"
     ]
    },
    {
     "name": "stderr",
     "output_type": "stream",
     "text": [
      "\u001b[32m[I 2021-06-29 13:23:18,578]\u001b[0m Trial 94 finished with value: 0.7777777910232544 and parameters: {'n_layers': 1, 'weight_decay': 0.00013060450544470734, 'n_units_l0': 28, 'optimizer': 'RMSprop', 'rmsprop_learning_rate': 0.01542392331093909, 'rmsprop_decay': 0.9215926430543635, 'rmsprop_momentum': 0.00019279618329775972}. Best is trial 53 with value: 0.9333333373069763.\u001b[0m\n"
     ]
    },
    {
     "name": "stdout",
     "output_type": "stream",
     "text": [
      "Test accuracy: 0.7777777910232544\n",
      "2/2 [==============================] - 1s 3ms/step - loss: 0.7030 - accuracy: 0.5613\n",
      "1/1 [==============================] - 0s 151ms/step - loss: 0.5427 - accuracy: 0.8444\n"
     ]
    },
    {
     "name": "stderr",
     "output_type": "stream",
     "text": [
      "\u001b[32m[I 2021-06-29 13:23:19,330]\u001b[0m Trial 95 finished with value: 0.8444444537162781 and parameters: {'n_layers': 2, 'weight_decay': 0.0009698578339026862, 'n_units_l0': 79, 'n_units_l1': 4, 'optimizer': 'RMSprop', 'rmsprop_learning_rate': 0.00781951488979492, 'rmsprop_decay': 0.9231038897709366, 'rmsprop_momentum': 0.002837038192535971}. Best is trial 53 with value: 0.9333333373069763.\u001b[0m\n"
     ]
    },
    {
     "name": "stdout",
     "output_type": "stream",
     "text": [
      "Test accuracy: 0.8444444537162781\n",
      "2/2 [==============================] - 1s 3ms/step - loss: 0.6894 - accuracy: 0.5802\n",
      "1/1 [==============================] - 0s 164ms/step - loss: 0.5177 - accuracy: 0.8222\n"
     ]
    },
    {
     "name": "stderr",
     "output_type": "stream",
     "text": [
      "\u001b[32m[I 2021-06-29 13:23:20,223]\u001b[0m Trial 96 finished with value: 0.8222222328186035 and parameters: {'n_layers': 3, 'weight_decay': 0.0005933358938186961, 'n_units_l0': 63, 'n_units_l1': 4, 'n_units_l2': 47, 'optimizer': 'RMSprop', 'rmsprop_learning_rate': 0.012929070962442698, 'rmsprop_decay': 0.909905813635285, 'rmsprop_momentum': 0.0009386104711041983}. Best is trial 53 with value: 0.9333333373069763.\u001b[0m\n"
     ]
    },
    {
     "name": "stdout",
     "output_type": "stream",
     "text": [
      "Test accuracy: 0.8222222328186035\n",
      "2/2 [==============================] - 0s 2ms/step - loss: 0.6835 - accuracy: 0.7406\n",
      "1/1 [==============================] - 0s 134ms/step - loss: 0.5225 - accuracy: 0.8222\n"
     ]
    },
    {
     "name": "stderr",
     "output_type": "stream",
     "text": [
      "\u001b[32m[I 2021-06-29 13:23:20,822]\u001b[0m Trial 97 finished with value: 0.8222222328186035 and parameters: {'n_layers': 1, 'weight_decay': 9.489891413487298e-05, 'n_units_l0': 32, 'optimizer': 'RMSprop', 'rmsprop_learning_rate': 0.07816645331420094, 'rmsprop_decay': 0.8967440248265973, 'rmsprop_momentum': 0.0001035064730939318}. Best is trial 53 with value: 0.9333333373069763.\u001b[0m\n"
     ]
    },
    {
     "name": "stdout",
     "output_type": "stream",
     "text": [
      "Test accuracy: 0.8222222328186035\n",
      "2/2 [==============================] - 0s 3ms/step - loss: 0.6415 - accuracy: 0.6085\n",
      "1/1 [==============================] - 0s 156ms/step - loss: 0.2757 - accuracy: 0.8889\n"
     ]
    },
    {
     "name": "stderr",
     "output_type": "stream",
     "text": [
      "\u001b[32m[I 2021-06-29 13:23:21,487]\u001b[0m Trial 98 finished with value: 0.8888888955116272 and parameters: {'n_layers': 1, 'weight_decay': 0.00020979251337474922, 'n_units_l0': 55, 'optimizer': 'RMSprop', 'rmsprop_learning_rate': 0.030719699667119498, 'rmsprop_decay': 0.9281790379908808, 'rmsprop_momentum': 5.3518496984777054e-05}. Best is trial 53 with value: 0.9333333373069763.\u001b[0m\n"
     ]
    },
    {
     "name": "stdout",
     "output_type": "stream",
     "text": [
      "Test accuracy: 0.8888888955116272\n",
      "2/2 [==============================] - 0s 3ms/step - loss: 0.7275 - accuracy: 0.4953\n",
      "1/1 [==============================] - 0s 141ms/step - loss: 0.5153 - accuracy: 0.7333\n"
     ]
    },
    {
     "name": "stderr",
     "output_type": "stream",
     "text": [
      "\u001b[32m[I 2021-06-29 13:23:22,085]\u001b[0m Trial 99 finished with value: 0.7333333492279053 and parameters: {'n_layers': 1, 'weight_decay': 1.5915131987239953e-09, 'n_units_l0': 56, 'optimizer': 'RMSprop', 'rmsprop_learning_rate': 0.03195659039481457, 'rmsprop_decay': 0.918145382856389, 'rmsprop_momentum': 3.305671780813297e-05}. Best is trial 53 with value: 0.9333333373069763.\u001b[0m\n"
     ]
    },
    {
     "name": "stdout",
     "output_type": "stream",
     "text": [
      "Test accuracy: 0.7333333492279053\n",
      "Number of finished trials:  100\n",
      "Best trial:\n",
      "  Value:  0.9333333373069763\n",
      "  Params: \n",
      "    n_layers: 2\n",
      "    weight_decay: 0.0003122482289325397\n",
      "    n_units_l0: 93\n",
      "    n_units_l1: 7\n",
      "    optimizer: RMSprop\n",
      "    rmsprop_learning_rate: 0.008257347924701607\n",
      "    rmsprop_decay: 0.913694321769107\n",
      "    rmsprop_momentum: 0.0013333222292887415\n"
     ]
    }
   ],
   "source": [
    "\n",
    "study = optuna.create_study(direction=\"maximize\")\n",
    "study.optimize(objective, n_trials=100)\n",
    "\n",
    "print(\"Number of finished trials: \", len(study.trials))\n",
    "\n",
    "print(\"Best trial:\")\n",
    "trial = study.best_trial\n",
    "\n",
    "print(\"  Value: \", trial.value)\n",
    "\n",
    "print(\"  Params: \")\n",
    "for key, value in trial.params.items():\n",
    "    print(\"    {}: {}\".format(key, value))"
   ]
  },
  {
   "cell_type": "code",
   "execution_count": 1,
   "id": "c886a63b-19ec-43aa-b33f-e7ee2b08629b",
   "metadata": {},
   "outputs": [
    {
     "ename": "NameError",
     "evalue": "name 'model' is not defined",
     "output_type": "error",
     "traceback": [
      "\u001b[0;31m---------------------------------------------------------------------------\u001b[0m",
      "\u001b[0;31mNameError\u001b[0m                                 Traceback (most recent call last)",
      "\u001b[0;32m<ipython-input-1-f2f74534c810>\u001b[0m in \u001b[0;36m<module>\u001b[0;34m\u001b[0m\n\u001b[0;32m----> 1\u001b[0;31m \u001b[0mhistory\u001b[0m \u001b[0;34m=\u001b[0m\u001b[0mmodel\u001b[0m\u001b[0;34m.\u001b[0m\u001b[0mfit\u001b[0m\u001b[0;34m(\u001b[0m\u001b[0mtrain_dataset\u001b[0m\u001b[0;34m,\u001b[0m \u001b[0mepochs\u001b[0m\u001b[0;34m=\u001b[0m\u001b[0;36m1\u001b[0m\u001b[0;34m)\u001b[0m\u001b[0;34m\u001b[0m\u001b[0;34m\u001b[0m\u001b[0m\n\u001b[0m\u001b[1;32m      2\u001b[0m \u001b[0mtest_dataset\u001b[0m \u001b[0;34m=\u001b[0m \u001b[0mget_test_dataset\u001b[0m\u001b[0;34m(\u001b[0m\u001b[0;34m)\u001b[0m\u001b[0;34m\u001b[0m\u001b[0;34m\u001b[0m\u001b[0m\n\u001b[1;32m      3\u001b[0m \u001b[0mscore\u001b[0m \u001b[0;34m=\u001b[0m \u001b[0mmodel\u001b[0m\u001b[0;34m.\u001b[0m\u001b[0mevaluate\u001b[0m\u001b[0;34m(\u001b[0m\u001b[0mtest_dataset\u001b[0m\u001b[0;34m,\u001b[0m \u001b[0mverbose\u001b[0m \u001b[0;34m=\u001b[0m \u001b[0;36m1\u001b[0m\u001b[0;34m)\u001b[0m\u001b[0;34m\u001b[0m\u001b[0;34m\u001b[0m\u001b[0m\n\u001b[1;32m      4\u001b[0m \u001b[0mprint\u001b[0m\u001b[0;34m(\u001b[0m\u001b[0;34m'Test accuracy:'\u001b[0m\u001b[0;34m,\u001b[0m \u001b[0mscore\u001b[0m\u001b[0;34m[\u001b[0m\u001b[0;36m1\u001b[0m\u001b[0;34m]\u001b[0m\u001b[0;34m)\u001b[0m\u001b[0;34m\u001b[0m\u001b[0;34m\u001b[0m\u001b[0m\n\u001b[1;32m      5\u001b[0m \u001b[0;32mreturn\u001b[0m \u001b[0mscore\u001b[0m\u001b[0;34m[\u001b[0m\u001b[0;36m1\u001b[0m\u001b[0;34m]\u001b[0m\u001b[0;34m\u001b[0m\u001b[0;34m\u001b[0m\u001b[0m\n",
      "\u001b[0;31mNameError\u001b[0m: name 'model' is not defined"
     ]
    }
   ],
   "source": [
    "\n",
    "\n",
    "    "
   ]
  },
  {
   "cell_type": "code",
   "execution_count": 18,
   "id": "a025cb63-23c3-41b5-be4f-f11c4e0e5f3d",
   "metadata": {},
   "outputs": [],
   "source": [
    "n_layers = 2\n",
    "weight_decay = 0.00013968308313204396\n",
    "n_units_l0 = 116\n",
    "n_units_l1 = 113\n",
    "optimizer = \"Adam\"\n",
    "adam_learning_rate = 0.014852352399443616"
   ]
  },
  {
   "cell_type": "code",
   "execution_count": 19,
   "id": "bfc97f88-757e-4fc0-9a55-8e00f646f377",
   "metadata": {},
   "outputs": [],
   "source": [
    "n_layers = 2\n",
    "weight_decay =  0.00013968308313204396\n",
    "layer_units = [116,114]\n",
    "best_model = tf.keras.Sequential()\n",
    "best_model.add(tf.keras.layers.Flatten())\n",
    "for i in range(n_layers):\n",
    "    best_model.add(\n",
    "        tf.keras.layers.Dense(\n",
    "            layer_units[i],\n",
    "            activation=\"relu\",\n",
    "            kernel_regularizer=tf.keras.regularizers.l2(weight_decay),\n",
    "        )\n",
    "    )\n",
    "best_model.add(\n",
    "    tf.keras.layers.Dense(CLASSES,activation=\"softmax\", kernel_regularizer=tf.keras.regularizers.l2(weight_decay))\n",
    ")\n",
    "   \n",
    "best_model.compile(loss=\"categorical_crossentropy\",optimizer=optimizer, metrics=\"accuracy\")\n"
   ]
  },
  {
   "cell_type": "code",
   "execution_count": 20,
   "id": "51d9c048-bba6-4aab-a582-9f5a84e75273",
   "metadata": {},
   "outputs": [
    {
     "data": {
      "image/png": "[encoded data removed]",
      "text/plain": [
       "<IPython.core.display.Image object>"
      ]
     },
     "execution_count": 20,
     "metadata": {},
     "output_type": "execute_result"
    }
   ],
   "source": [
    "keras.utils.plot_model(best_model, \"my_first_model.png\")"
   ]
  },
  {
   "cell_type": "code",
   "execution_count": 22,
   "id": "de320831-a698-46ec-b1c1-40a969af0b13",
   "metadata": {},
   "outputs": [
    {
     "name": "stdout",
     "output_type": "stream",
     "text": [
      "2/2 [==============================] - 0s 3ms/step - loss: 0.5660 - accuracy: 0.7830\n",
      "1/1 [==============================] - 0s 14ms/step - loss: 0.5268 - accuracy: 0.8444\n",
      "Test accuracy: 0.8444444537162781\n"
     ]
    }
   ],
   "source": [
    "history =best_model.fit(train_dataset, epochs=1)\n",
    "test_dataset = get_test_dataset()\n",
    "score = best_model.evaluate(test_dataset, verbose = 1) \n",
    "print('Test accuracy:', score[1])"
   ]
  },
  {
   "cell_type": "code",
   "execution_count": null,
   "id": "ebe9fde9-e1e7-4cc9-8dde-7e79daefb4e6",
   "metadata": {},
   "outputs": [],
   "source": []
  }
 ],
 "metadata": {
  "kernelspec": {
   "display_name": "Python 3",
   "language": "python",
   "name": "python3"
  },
  "language_info": {
   "codemirror_mode": {
    "name": "ipython",
    "version": 3
   },
   "file_extension": ".py",
   "mimetype": "text/x-python",
   "name": "python",
   "nbconvert_exporter": "python",
   "pygments_lexer": "ipython3",
   "version": "3.8.5"
  }
 },
 "nbformat": 4,
 "nbformat_minor": 5
}
