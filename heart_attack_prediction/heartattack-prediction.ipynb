{
 "cells": [
  {
   "cell_type": "code",
   "execution_count": 2,
   "id": "e77316ac-c050-4669-8ad4-2080051c214f",
   "metadata": {},
   "outputs": [],
   "source": [
    "import pandas as pd\n",
    "from sklearn.model_selection import train_test_split\n",
    "import numpy as np\n",
    "import tensorflow as tf\n",
    "from tensorflow import keras\n",
    "from tensorflow.keras import layers\n",
    "import numpy as np\n",
    "from matplotlib import pyplot\n",
    "import sklearn as sk"
   ]
  },
  {
   "cell_type": "code",
   "execution_count": 3,
   "id": "26ee599f-16f6-4b55-8a6e-3a9b7df63413",
   "metadata": {},
   "outputs": [],
   "source": [
    "# importing the data to a dataframe \n",
    "df = pd.read_csv(\"data/heart-attack-prediction/heart.csv\") \n",
    "SAMPLE_SIZE = len(df.index)"
   ]
  },
  {
   "cell_type": "markdown",
   "id": "5ebed8d2-d8b7-4c6d-9d60-8f71bcfc1d37",
   "metadata": {},
   "source": [
    "From https://www.kaggle.com/rashikrahmanpritom/heart-attack-analysis-prediction-dataset\n",
    "\n",
    "About this dataset\n",
    "Age : Age of the patient\n",
    "\n",
    "Sex : Sex of the patient\n",
    "\n",
    "exang: exercise induced angina (1 = yes; 0 = no)\n",
    "\n",
    "ca: number of major vessels (0-3)\n",
    "\n",
    "cp : Chest Pain type chest pain type\n",
    "\n",
    "Value 1: typical angina\n",
    "Value 2: atypical angina\n",
    "Value 3: non-anginal pain\n",
    "Value 4: asymptomatic\n",
    "trtbps : resting blood pressure (in mm Hg)\n",
    "\n",
    "chol : cholestoral in mg/dl fetched via BMI sensor\n",
    "\n",
    "fbs : (fasting blood sugar > 120 mg/dl) (1 = true; 0 = false)\n",
    "\n",
    "rest_ecg : resting electrocardiographic results\n",
    "\n",
    "Value 0: normal\n",
    "Value 1: having ST-T wave abnormality (T wave inversions and/or ST elevation or depression of > 0.05 mV)\n",
    "Value 2: showing probable or definite left ventricular hypertrophy by Estes' criteria\n",
    "\n",
    "thalach : maximum heart rate achieved\n",
    "\n",
    "target/output : 0= less chance of heart attack 1= more chance of heart attack\n",
    "\n"
   ]
  },
  {
   "cell_type": "code",
   "execution_count": 4,
   "id": "8010a06f-8e98-4f5b-95a8-eba4ecd5b10d",
   "metadata": {},
   "outputs": [
    {
     "data": {
      "text/html": [
       "<div>\n",
       "<style scoped>\n",
       "    .dataframe tbody tr th:only-of-type {\n",
       "        vertical-align: middle;\n",
       "    }\n",
       "\n",
       "    .dataframe tbody tr th {\n",
       "        vertical-align: top;\n",
       "    }\n",
       "\n",
       "    .dataframe thead th {\n",
       "        text-align: right;\n",
       "    }\n",
       "</style>\n",
       "<table border=\"1\" class=\"dataframe\">\n",
       "  <thead>\n",
       "    <tr style=\"text-align: right;\">\n",
       "      <th></th>\n",
       "      <th>age</th>\n",
       "      <th>sex</th>\n",
       "      <th>cp</th>\n",
       "      <th>trtbps</th>\n",
       "      <th>chol</th>\n",
       "      <th>fbs</th>\n",
       "      <th>restecg</th>\n",
       "      <th>thalachh</th>\n",
       "      <th>exng</th>\n",
       "      <th>oldpeak</th>\n",
       "      <th>slp</th>\n",
       "      <th>caa</th>\n",
       "      <th>thall</th>\n",
       "      <th>output</th>\n",
       "    </tr>\n",
       "  </thead>\n",
       "  <tbody>\n",
       "    <tr>\n",
       "      <th>0</th>\n",
       "      <td>63</td>\n",
       "      <td>1</td>\n",
       "      <td>3</td>\n",
       "      <td>145</td>\n",
       "      <td>233</td>\n",
       "      <td>1</td>\n",
       "      <td>0</td>\n",
       "      <td>150</td>\n",
       "      <td>0</td>\n",
       "      <td>2.3</td>\n",
       "      <td>0</td>\n",
       "      <td>0</td>\n",
       "      <td>1</td>\n",
       "      <td>1</td>\n",
       "    </tr>\n",
       "    <tr>\n",
       "      <th>1</th>\n",
       "      <td>37</td>\n",
       "      <td>1</td>\n",
       "      <td>2</td>\n",
       "      <td>130</td>\n",
       "      <td>250</td>\n",
       "      <td>0</td>\n",
       "      <td>1</td>\n",
       "      <td>187</td>\n",
       "      <td>0</td>\n",
       "      <td>3.5</td>\n",
       "      <td>0</td>\n",
       "      <td>0</td>\n",
       "      <td>2</td>\n",
       "      <td>1</td>\n",
       "    </tr>\n",
       "    <tr>\n",
       "      <th>2</th>\n",
       "      <td>41</td>\n",
       "      <td>0</td>\n",
       "      <td>1</td>\n",
       "      <td>130</td>\n",
       "      <td>204</td>\n",
       "      <td>0</td>\n",
       "      <td>0</td>\n",
       "      <td>172</td>\n",
       "      <td>0</td>\n",
       "      <td>1.4</td>\n",
       "      <td>2</td>\n",
       "      <td>0</td>\n",
       "      <td>2</td>\n",
       "      <td>1</td>\n",
       "    </tr>\n",
       "    <tr>\n",
       "      <th>3</th>\n",
       "      <td>56</td>\n",
       "      <td>1</td>\n",
       "      <td>1</td>\n",
       "      <td>120</td>\n",
       "      <td>236</td>\n",
       "      <td>0</td>\n",
       "      <td>1</td>\n",
       "      <td>178</td>\n",
       "      <td>0</td>\n",
       "      <td>0.8</td>\n",
       "      <td>2</td>\n",
       "      <td>0</td>\n",
       "      <td>2</td>\n",
       "      <td>1</td>\n",
       "    </tr>\n",
       "    <tr>\n",
       "      <th>4</th>\n",
       "      <td>57</td>\n",
       "      <td>0</td>\n",
       "      <td>0</td>\n",
       "      <td>120</td>\n",
       "      <td>354</td>\n",
       "      <td>0</td>\n",
       "      <td>1</td>\n",
       "      <td>163</td>\n",
       "      <td>1</td>\n",
       "      <td>0.6</td>\n",
       "      <td>2</td>\n",
       "      <td>0</td>\n",
       "      <td>2</td>\n",
       "      <td>1</td>\n",
       "    </tr>\n",
       "  </tbody>\n",
       "</table>\n",
       "</div>"
      ],
      "text/plain": [
       "   age  sex  cp  trtbps  chol  fbs  restecg  thalachh  exng  oldpeak  slp  \\\n",
       "0   63    1   3     145   233    1        0       150     0      2.3    0   \n",
       "1   37    1   2     130   250    0        1       187     0      3.5    0   \n",
       "2   41    0   1     130   204    0        0       172     0      1.4    2   \n",
       "3   56    1   1     120   236    0        1       178     0      0.8    2   \n",
       "4   57    0   0     120   354    0        1       163     1      0.6    2   \n",
       "\n",
       "   caa  thall  output  \n",
       "0    0      1       1  \n",
       "1    0      2       1  \n",
       "2    0      2       1  \n",
       "3    0      2       1  \n",
       "4    0      2       1  "
      ]
     },
     "execution_count": 4,
     "metadata": {},
     "output_type": "execute_result"
    }
   ],
   "source": [
    "df.head()"
   ]
  },
  {
   "cell_type": "code",
   "execution_count": 5,
   "id": "6687a1fd-5983-4a3d-865d-ce8f284e3e5c",
   "metadata": {},
   "outputs": [
    {
     "name": "stdout",
     "output_type": "stream",
     "text": [
      "   age  sex  cp  trtbps  chol  fbs  restecg  thalachh  exng  oldpeak  slp  \\\n",
      "0   63    1   3     145   233    1        0       150     0      2.3    0   \n",
      "1   37    1   2     130   250    0        1       187     0      3.5    0   \n",
      "2   41    0   1     130   204    0        0       172     0      1.4    2   \n",
      "3   56    1   1     120   236    0        1       178     0      0.8    2   \n",
      "4   57    0   0     120   354    0        1       163     1      0.6    2   \n",
      "\n",
      "   caa  thall  \n",
      "0    0      1  \n",
      "1    0      2  \n",
      "2    0      2  \n",
      "3    0      2  \n",
      "4    0      2  \n",
      "   output\n",
      "0       1\n",
      "1       1\n",
      "2       1\n",
      "3       1\n",
      "4       1\n"
     ]
    }
   ],
   "source": [
    "#Lets use output or target as preiction label\n",
    "\n",
    "# Specify the data 3 skip the quality out for y\n",
    "X= df.loc[:, :'thall']\n",
    "y = df.loc[:,['output']]\n",
    "print(X.head())\n",
    "print(y.head())"
   ]
  },
  {
   "cell_type": "code",
   "execution_count": 6,
   "id": "5d8e7ad4-e0a3-4112-8d12-4171e599dc80",
   "metadata": {},
   "outputs": [
    {
     "name": "stdout",
     "output_type": "stream",
     "text": [
      "X_train.shape= (203, 13) X_test= (100, 13) y_train= (203, 1) y_test= (100, 1)\n",
      "[ 54.    1.    2.  150.  232.    0.    0.  165.    0.    1.6   2.    0.\n",
      "   3. ]\n",
      "[ 57.    1.    0.  150.  276.    0.    0.  112.    1.    0.6   1.    1.\n",
      "   1. ]\n",
      "[[ 0 42]\n",
      " [ 1 58]]\n"
     ]
    }
   ],
   "source": [
    "# Split the data up in train and test sets\n",
    "X_train, X_test, y_train, y_test = train_test_split(X.to_numpy(), y.to_numpy(), test_size=0.33, random_state=42)\n",
    "print(\"X_train.shape=\", X_train.shape,\"X_test=\",X_test.shape,\"y_train=\",y_train.shape,\"y_test=\",y_test.shape)\n",
    "print(X_train[0,])\n",
    "print(X_test[0,])\n",
    "unique, counts = np.unique(y_test, return_counts=True)\n",
    "print(np.asarray((unique, counts)).T)\n"
   ]
  },
  {
   "cell_type": "code",
   "execution_count": 7,
   "id": "2e7aa149-b842-47c1-bb02-f1cb7b16d361",
   "metadata": {},
   "outputs": [],
   "source": [
    "# Scale the Feature data\n",
    "scaler = sk.preprocessing.StandardScaler().fit(X_train)\n",
    "X_train_s = scaler.transform(X_train)\n",
    "X_test_s = scaler.transform(X_test)"
   ]
  },
  {
   "cell_type": "code",
   "execution_count": 8,
   "id": "513f01fe-3c12-4c23-84ce-07b4ed7212d0",
   "metadata": {},
   "outputs": [
    {
     "name": "stdout",
     "output_type": "stream",
     "text": [
      "X_train.shape= (203, 13) X_test= (100, 13) y_train= (203, 2) y_test= (100, 2)\n"
     ]
    }
   ],
   "source": [
    "# Convert the  validation data \n",
    "num_classes = 2\n",
    "y_train_org = y_train\n",
    "y_test_org = y_test\n",
    "y_train = keras.utils.to_categorical(y_train, num_classes)\n",
    "y_test = keras.utils.to_categorical(y_test, num_classes)\n",
    "print(\"X_train.shape=\", X_train.shape,\"X_test=\",X_test.shape,\"y_train=\",y_train.shape,\"y_test=\",y_test.shape)"
   ]
  },
  {
   "cell_type": "code",
   "execution_count": 9,
   "id": "9b694a59-238a-4362-a38d-178fe32eb8fa",
   "metadata": {},
   "outputs": [
    {
     "name": "stdout",
     "output_type": "stream",
     "text": [
      "[[1. 0.]\n",
      " [0. 1.]\n",
      " [1. 0.]\n",
      " [0. 1.]\n",
      " [0. 1.]\n",
      " [0. 1.]\n",
      " [1. 0.]\n",
      " [1. 0.]\n",
      " [0. 1.]]\n",
      "[[0]\n",
      " [1]\n",
      " [0]\n",
      " [1]\n",
      " [1]\n",
      " [1]\n",
      " [0]\n",
      " [0]\n",
      " [1]]\n"
     ]
    }
   ],
   "source": [
    "print(y_test[1:10])\n",
    "print(y_test_org[1:10])"
   ]
  },
  {
   "cell_type": "markdown",
   "id": "76d0f822-660c-498e-a5b9-0a0c725e53bf",
   "metadata": {},
   "source": [
    "Lets use a simple 3 or 4 layer Neural Network to learn"
   ]
  },
  {
   "cell_type": "code",
   "execution_count": 11,
   "id": "e38787d0-1c5c-420c-b8b1-4faf99aefb2c",
   "metadata": {},
   "outputs": [
    {
     "name": "stdout",
     "output_type": "stream",
     "text": [
      "WARNING:tensorflow:Please add `keras.layers.InputLayer` instead of `keras.Input` to Sequential model. `keras.Input` is intended to be used by Functional model.\n",
      "Model: \"sequential\"\n",
      "_________________________________________________________________\n",
      "Layer (type)                 Output Shape              Param #   \n",
      "=================================================================\n",
      "layer1 (Dense)               (None, 8)                 112       \n",
      "_________________________________________________________________\n",
      "layer2 (Dense)               (None, 12)                108       \n",
      "_________________________________________________________________\n",
      "layer3 (Dense)               (None, 12)                156       \n",
      "_________________________________________________________________\n",
      "prediction (Dense)           (None, 2)                 26        \n",
      "=================================================================\n",
      "Total params: 402\n",
      "Trainable params: 402\n",
      "Non-trainable params: 0\n",
      "_________________________________________________________________\n",
      "4/4 [==============================] - 0s 808us/step - loss: 0.5729 - accuracy: 0.7900\n",
      "Test loss: 0.5729370713233948\n",
      "Test accuracy: 0.7900000214576721\n",
      "dict_keys(['loss', 'accuracy', 'val_loss', 'val_accuracy'])\n"
     ]
    },
    {
     "data": {
      "image/png": "[encoded data removed]",
      "text/plain": [
       "<Figure size 432x288 with 1 Axes>"
      ]
     },
     "metadata": {
      "needs_background": "light"
     },
     "output_type": "display_data"
    }
   ],
   "source": [
    "np.random.seed(1337)\n",
    "\n",
    "# Define Sequential model with 3 layers\n",
    "# https://keras.io/api/layers/core_layers/dense/\n",
    "# Model / data parameters\n",
    "\n",
    "input_shape = (13, )\n",
    "\n",
    "#https://keras.io/examples/vision/mnist_convnet/\n",
    "\n",
    "model = keras.Sequential(\n",
    "    [\n",
    "        keras.Input(shape=input_shape),\n",
    "        layers.Dense(8, activation=\"relu\", name=\"layer1\"),\n",
    "        layers.Dense(12, activation=\"relu\", name=\"layer2\"),\n",
    "        layers.Dense(12, activation=\"relu\", name=\"layer3\"),\n",
    "        layers.Dense(num_classes,  activation=\"softmax\", name=\"prediction\")\n",
    "    ]\n",
    ")\n",
    "\n",
    "model.summary()\n",
    "          \n",
    "# Why ? https://ruder.io/optimizing-gradient-descent/\n",
    "#using an optimizer with momemntum\n",
    "\n",
    "#optimizer=keras.optimizers.RMSprop(),\n",
    "# optimizer=keras.optimizers.SGD(learning_rate=.01)\n",
    "#optimizer=tf.keras.optimizers.SGD()\n",
    "optimizer = \"adam\"\n",
    "\n",
    "\n",
    "# Why ? If features are not one hot encoded, use SparseCategoricalCrossentropy(), \n",
    "# Else use categorical_crossentropy https://stackoverflow.com/a/62286888/429476\n",
    "loss=\"categorical_crossentropy\" # use last layer activation=\"softmax\" when using categrorical_crossentropy as op will be between (0,1)\n",
    "#loss=tf.keras.losses.MeanSquaredError()\n",
    "\n",
    "#metrics=['mse', 'mae', 'mape'])\n",
    "mertics_key = \"accuracy\"\n",
    "\n",
    "epochs = 100 \n",
    "batch_size = 128\n",
    "# epochs = 100 \n",
    "# Test loss: 0.5700836181640625\n",
    "# Test accuracy: 0.8100000023841858\n",
    "\n",
    "model.compile( loss=loss, optimizer=optimizer, metrics=[mertics_key])\n",
    "          \n",
    "history =model.fit(X_train_s, y_train, epochs=epochs, batch_size=batch_size,verbose=0,validation_split=0.1)\n",
    "\n",
    "score = model.evaluate(X_test_s, y_test, verbose = 1) \n",
    "print('Test loss:', score[0]) \n",
    "print('Test accuracy:', score[1])\n",
    "\n",
    "print(history.history.keys())\n",
    "#print(history.history[mertics_key])\n",
    "pyplot.plot(history.history[mertics_key])\n",
    "pyplot.show()"
   ]
  },
  {
   "cell_type": "code",
   "execution_count": 12,
   "id": "ddd92c50-b108-49c7-9b0a-a9f5286b6637",
   "metadata": {},
   "outputs": [
    {
     "name": "stdout",
     "output_type": "stream",
     "text": [
      "X_test_s [[ 0.48  0.72  1.91  2.3   0.72 -0.38 -1.    0.41 -0.7  -0.76 -0.66 -0.69\n",
      "   1.12]]\n",
      "y_test.shape (100, 2)\n",
      "original list [1. 0.]\n",
      "original 0.0 Prediction  1\n",
      "Prediction List [[0.19 0.81]]\n",
      "original 1.0 Prediction  0\n",
      "Prediction List [[0.66 0.34]]\n",
      "original 0.0 Prediction  0\n",
      "Prediction List [[0.85 0.15]]\n"
     ]
    }
   ],
   "source": [
    "np.set_printoptions(precision=2)\n",
    "np.set_printoptions(suppress=True)\n",
    "# what we want is something like test loss, test acc: [0.14795634150505066, 0.9563999772071838]\n",
    "n=1\n",
    "k= X_test_s[np.newaxis,n,::]\n",
    "print(\"X_test_s\",k)\n",
    "print(\"y_test.shape\",y_test.shape)\n",
    "j = y_test[n]\n",
    "print(\"original list\",j)\n",
    "pred = model.predict(k)\n",
    "print(\"original\",j[1],\"Prediction \",np.argmax(pred))\n",
    "print(\"Prediction List\",pred)\n",
    "n=2\n",
    "k= X_test_s[np.newaxis,n,::]\n",
    "j = y_test[n]\n",
    "pred = model.predict(k)\n",
    "print(\"original\",j[1],\"Prediction \",np.argmax(pred))\n",
    "print(\"Prediction List\",pred)\n",
    "n=0\n",
    "k= X_test_s[np.newaxis,n,::]\n",
    "j = y_test[n]\n",
    "pred = model.predict(k)\n",
    "print(\"original\",j[1],\"Prediction \",np.argmax(pred))\n",
    "print(\"Prediction List\",pred)\n"
   ]
  },
  {
   "cell_type": "markdown",
   "id": "c1daeb75-70c1-4d76-878d-2b6b3f69b229",
   "metadata": {},
   "source": [
    "## https://www.sharpsightlabs.com/blog/numpy-axes-explained/#:~:text=NumPy%20axes%20are%20the%20directions,along%20the%20rows%20and%20columns."
   ]
  },
  {
   "cell_type": "code",
   "execution_count": null,
   "id": "417a3751-b306-4ae6-8eef-b3518b9151d8",
   "metadata": {},
   "outputs": [],
   "source": []
  },
  {
   "cell_type": "code",
   "execution_count": 32,
   "id": "3f30e2a0-1dea-41c4-a225-7f5fc20464aa",
   "metadata": {},
   "outputs": [
    {
     "name": "stdout",
     "output_type": "stream",
     "text": [
      "(1, 13)\n"
     ]
    }
   ],
   "source": [
    "k = X_test_s[np.newaxis,22,::]\n",
    "print(k.shape)\n",
    "print(k)"
   ]
  },
  {
   "cell_type": "code",
   "execution_count": null,
   "id": "751ea8b4-bc0b-4289-89f0-725ff6531651",
   "metadata": {},
   "outputs": [],
   "source": []
  },
  {
   "cell_type": "code",
   "execution_count": null,
   "id": "e22e0b3e-0935-4304-8bec-fb1129da4696",
   "metadata": {},
   "outputs": [],
   "source": []
  },
  {
   "cell_type": "code",
   "execution_count": null,
   "id": "aa41cb24-8b8a-4f94-9bbb-8f0a27dae594",
   "metadata": {},
   "outputs": [],
   "source": []
  },
  {
   "cell_type": "code",
   "execution_count": null,
   "id": "5aecc320-3076-4e83-9d87-5b182673b542",
   "metadata": {},
   "outputs": [],
   "source": []
  },
  {
   "cell_type": "code",
   "execution_count": null,
   "id": "1b8f2226-2308-4f32-bf93-99ee7421212c",
   "metadata": {},
   "outputs": [],
   "source": []
  }
 ],
 "metadata": {
  "kernelspec": {
   "display_name": "Python 3",
   "language": "python",
   "name": "python3"
  },
  "language_info": {
   "codemirror_mode": {
    "name": "ipython",
    "version": 3
   },
   "file_extension": ".py",
   "mimetype": "text/x-python",
   "name": "python",
   "nbconvert_exporter": "python",
   "pygments_lexer": "ipython3",
   "version": "3.8.5"
  }
 },
 "nbformat": 4,
 "nbformat_minor": 5
}
