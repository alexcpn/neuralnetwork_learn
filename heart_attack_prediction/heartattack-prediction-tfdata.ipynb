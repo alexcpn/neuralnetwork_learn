{
 "cells": [
  {
   "cell_type": "markdown",
   "id": "4c6b160a-437a-42b0-9dd1-6b7c5dfdd2be",
   "metadata": {},
   "source": [
    "From https://www.kaggle.com/rashikrahmanpritom/heart-attack-analysis-prediction-dataset\n",
    "\n",
    "About this dataset\n",
    "Age : Age of the patient\n",
    "\n",
    "Sex : Sex of the patient\n",
    "\n",
    "exang: exercise induced angina (1 = yes; 0 = no)\n",
    "\n",
    "ca: number of major vessels (0-3)\n",
    "\n",
    "cp : Chest Pain type chest pain type\n",
    "\n",
    "Value 1: typical angina\n",
    "Value 2: atypical angina\n",
    "Value 3: non-anginal pain\n",
    "Value 4: asymptomatic\n",
    "trtbps : resting blood pressure (in mm Hg)\n",
    "\n",
    "chol : cholestoral in mg/dl fetched via BMI sensor\n",
    "\n",
    "fbs : (fasting blood sugar > 120 mg/dl) (1 = true; 0 = false)\n",
    "\n",
    "rest_ecg : resting electrocardiographic results\n",
    "\n",
    "Value 0: normal\n",
    "Value 1: having ST-T wave abnormality (T wave inversions and/or ST elevation or depression of > 0.05 mV)\n",
    "Value 2: showing probable or definite left ventricular hypertrophy by Estes' criteria\n",
    "\n",
    "thalach : maximum heart rate achieved\n",
    "\n",
    "target/output : 0= less chance of heart attack 1= more chance of heart attack"
   ]
  },
  {
   "cell_type": "code",
   "execution_count": 1,
   "id": "38e13f9c-7ede-4f37-bf6f-0c7ba3ecf144",
   "metadata": {},
   "outputs": [],
   "source": [
    "import pandas as pd\n",
    "from sklearn.model_selection import train_test_split\n",
    "import numpy as np\n",
    "import tensorflow as tf\n",
    "from tensorflow import keras\n",
    "from tensorflow.keras import layers\n",
    "import numpy as np\n",
    "from matplotlib import pyplot\n",
    "import sklearn as sk\n",
    "from tensorflow.keras.layers.experimental import preprocessing"
   ]
  },
  {
   "cell_type": "code",
   "execution_count": 3,
   "id": "6ea58f31-1f0e-48ee-add7-27fd83ded920",
   "metadata": {},
   "outputs": [],
   "source": [
    "# importing the data to a dataframe \n",
    "df = pd.read_csv(\"../data/heart-attack-prediction/heart.csv\") \n",
    "SAMPLE_SIZE = len(df.index)"
   ]
  },
  {
   "cell_type": "code",
   "execution_count": 4,
   "id": "617139a5-a27b-433f-9a8d-a74d77e2ba07",
   "metadata": {},
   "outputs": [
    {
     "name": "stdout",
     "output_type": "stream",
     "text": [
      "   age  sex  cp  trtbps  chol  fbs  restecg  thalachh  exng  oldpeak  slp  \\\n",
      "0   63    1   3     145   233    1        0       150     0      2.3    0   \n",
      "1   37    1   2     130   250    0        1       187     0      3.5    0   \n",
      "2   41    0   1     130   204    0        0       172     0      1.4    2   \n",
      "3   56    1   1     120   236    0        1       178     0      0.8    2   \n",
      "4   57    0   0     120   354    0        1       163     1      0.6    2   \n",
      "\n",
      "   caa  thall  \n",
      "0    0      1  \n",
      "1    0      2  \n",
      "2    0      2  \n",
      "3    0      2  \n",
      "4    0      2  \n",
      "   output\n",
      "0       1\n",
      "1       1\n",
      "2       1\n",
      "3       1\n",
      "4       1\n",
      "shape of X (303, 13)\n",
      "shape of y (303, 1)\n"
     ]
    }
   ],
   "source": [
    "#Lets use output or target as preiction label\n",
    "\n",
    "# Specify the data 3 skip the quality out for y\n",
    "X= df.loc[:, :'thall']\n",
    "y = df.loc[:,['output']]\n",
    "print(X.head())\n",
    "print(y.head())\n",
    "print(\"shape of X\",X.to_numpy().shape)\n",
    "print(\"shape of y\",y.to_numpy().shape)"
   ]
  },
  {
   "cell_type": "code",
   "execution_count": 59,
   "id": "7775118f-8ef4-4efb-b3fa-28da742530a9",
   "metadata": {},
   "outputs": [],
   "source": [
    "# Scale the Feature data\n",
    "scaler = sk.preprocessing.StandardScaler().fit(X)\n",
    "X_s = scaler.transform(X)\n",
    "# Convert the  validation data \n",
    "num_classes = 2\n",
    "y_s = keras.utils.to_categorical(y, num_classes)"
   ]
  },
  {
   "cell_type": "code",
   "execution_count": 60,
   "id": "6cadc093-1919-4fc2-bac2-1c236161af82",
   "metadata": {},
   "outputs": [
    {
     "name": "stdout",
     "output_type": "stream",
     "text": [
      "shape of X_s (303, 13)\n",
      "shape of y_s (303, 2)\n",
      "X_s [-1.91531289  0.68100522  1.00257707 -0.09273778  0.07219949 -0.41763453\n",
      "  0.89896224  1.63347147 -0.69663055  2.12257273 -2.27457861 -0.71442887\n",
      " -0.51292188]\n",
      "y_s [0. 1.]\n",
      "shape of X_s (303, 13)\n",
      "shape of y_s (303, 2)\n",
      "X_s [-1.9153129   0.68100524  1.0025771  -0.09273779  0.07219949 -0.41763455\n",
      "  0.89896226  1.6334715  -0.69663054  2.1225727  -2.2745786  -0.71442884\n",
      " -0.51292187]\n",
      "y_s [0. 1.]\n"
     ]
    }
   ],
   "source": [
    "print(\"shape of X_s\",X_s.shape)\n",
    "print(\"shape of y_s\",y_s.shape)\n",
    "print(\"X_s\",X_s[1])\n",
    "print(\"y_s\",y_s[1])\n",
    "# Preprocess the data (these are NumPy arrays)\n",
    "X_s = X_s.reshape(SAMPLE_SIZE, 13).astype(\"float32\") \n",
    "y_s = y_s.reshape(SAMPLE_SIZE, 2).astype(\"float32\") \n",
    "print(\"shape of X_s\",X_s.shape)\n",
    "print(\"shape of y_s\",y_s.shape)\n",
    "print(\"X_s\",X_s[1])\n",
    "print(\"y_s\",y_s[1])"
   ]
  },
  {
   "cell_type": "code",
   "execution_count": 61,
   "id": "85b3b9b6-b6ef-4941-8993-35f7d633f9d1",
   "metadata": {},
   "outputs": [],
   "source": [
    "dataset = tf.data.Dataset.from_tensor_slices((X_s, y_s))"
   ]
  },
  {
   "cell_type": "code",
   "execution_count": 62,
   "id": "83cde1ca-bc16-4b64-945b-b14902eea899",
   "metadata": {},
   "outputs": [
    {
     "name": "stdout",
     "output_type": "stream",
     "text": [
      "(<tf.Tensor: shape=(13,), dtype=float32, numpy=\n",
      "array([ 0.9521966 ,  0.68100524,  1.973123  ,  0.7639558 , -0.2563337 ,\n",
      "        2.394438  , -1.0058318 ,  0.01544279, -0.69663054,  1.0873381 ,\n",
      "       -2.2745786 , -0.71442884, -2.1488726 ], dtype=float32)>, <tf.Tensor: shape=(2,), dtype=float32, numpy=array([0., 1.], dtype=float32)>)\n"
     ]
    }
   ],
   "source": [
    "for element in dataset:\n",
    "  print(element)\n",
    "  break"
   ]
  },
  {
   "cell_type": "code",
   "execution_count": 63,
   "id": "74c9282b-7ca7-4aa3-8e76-8196a1820f24",
   "metadata": {},
   "outputs": [
    {
     "name": "stdout",
     "output_type": "stream",
     "text": [
      "train_size= 212 val_size= 45 test_size= 45\n"
     ]
    }
   ],
   "source": [
    "train_size = int(0.7 * SAMPLE_SIZE)\n",
    "val_size = int(0.15 * SAMPLE_SIZE)\n",
    "test_size = int(0.15 * SAMPLE_SIZE)\n",
    "print(\"train_size=\",train_size,\"val_size=\",val_size,\"test_size=\",test_size)\n",
    "dataset = dataset.shuffle(SAMPLE_SIZE)\n",
    "\n",
    "train_dataset = dataset.take(train_size)\n",
    "test_dataset = dataset.skip(train_size)\n",
    "val_dataset = test_dataset.skip(val_size)\n",
    "test_dataset = test_dataset.take(test_size)\n",
    "\n",
    "# for tf data set batch size is given here\n",
    "batch_size = 128\n",
    "train_dataset = train_dataset.shuffle(buffer_size=1024).batch(batch_size)\n",
    "test_dataset = test_dataset.shuffle(buffer_size=1024).batch(batch_size)\n",
    "val_dataset = val_dataset.shuffle(buffer_size=1024).batch(batch_size)"
   ]
  },
  {
   "cell_type": "raw",
   "id": "f804b9fc-52cc-4e5c-9fcb-1a6deeff42c9",
   "metadata": {},
   "source": [
    "for element in train_dataset:\n",
    "  print(element)\n",
    "  break\n",
    "x = train_dataset.shuffle(buffer_size=1024).batch(2)\n",
    "for element in x:\n",
    "  print(element)\n",
    "  break"
   ]
  },
  {
   "cell_type": "code",
   "execution_count": 64,
   "id": "1738c431-961d-4025-b54b-6d94333e2296",
   "metadata": {},
   "outputs": [],
   "source": [
    "#https://stackoverflow.com/questions/47435526/what-is-the-meaning-of-axis-1-in-keras-argmax\n",
    "\n",
    "inputs = keras.Input(shape=(13,), name=\"inputs\")\n",
    "flat = keras.layers.Flatten()(inputs)\n",
    "x = layers.Dense(64, activation=\"relu\", name=\"dense_1\")(flat)\n",
    "x = layers.Dense(64, activation=\"relu\", name=\"dense_2\")(x)\n",
    "outputs = layers.Dense(2, activation=\"softmax\", name=\"predictions\")(x)\n",
    "model = keras.Model(inputs=inputs, outputs=outputs)\n",
    "\n",
    "optimizer = \"adam\"\n",
    "loss=\"categorical_crossentropy\" \n",
    "mertics_key = \"accuracy\"\n",
    "epochs = 100 "
   ]
  },
  {
   "cell_type": "code",
   "execution_count": 65,
   "id": "5390efd2-b793-4236-8a8a-eacbe39c609c",
   "metadata": {},
   "outputs": [],
   "source": [
    "model.compile( loss=loss, optimizer=optimizer, metrics=[mertics_key])\n"
   ]
  },
  {
   "cell_type": "code",
   "execution_count": 66,
   "id": "bb86db8e-1c85-4ccd-b76a-a0ecb67ab2d7",
   "metadata": {},
   "outputs": [
    {
     "data": {
      "image/png": "[encoded data removed]",
      "text/plain": [
       "<Figure size 432x288 with 1 Axes>"
      ]
     },
     "metadata": {
      "needs_background": "light"
     },
     "output_type": "display_data"
    }
   ],
   "source": [
    "tf.keras.backend.clear_session()\n",
    "# Train the model          \n",
    "history =model.fit(train_dataset, epochs=epochs,verbose=0,validation_data=val_dataset)\n",
    "model.save_weights('hearattack-prediction.h5')\n",
    "#print(history.history[mertics_key])\n",
    "#pyplot.plot(history.history['loss'])\n",
    "#pyplot.plot(history.history['val_loss'])\n",
    "pyplot.plot(history.history['accuracy'])\n",
    "pyplot.plot(history.history['val_accuracy'])\n",
    "pyplot.title('model accuracy')\n",
    "pyplot.ylabel('accuracy')\n",
    "pyplot.xlabel('epoch')\n",
    "pyplot.legend(['train-acc', 'val-acc'], loc='upper left')\n",
    "pyplot.show()"
   ]
  },
  {
   "cell_type": "code",
   "execution_count": 67,
   "id": "0aaa499e-2276-47bf-934d-00ad0ab00b7f",
   "metadata": {},
   "outputs": [
    {
     "data": {
      "image/png": "[encoded data removed]",
      "text/plain": [
       "<Figure size 432x288 with 1 Axes>"
      ]
     },
     "metadata": {
      "needs_background": "light"
     },
     "output_type": "display_data"
    }
   ],
   "source": [
    "pyplot.plot(history.history['loss'])\n",
    "pyplot.plot(history.history['val_loss'])\n",
    "pyplot.title('model loss')\n",
    "pyplot.ylabel('loss')\n",
    "pyplot.xlabel('epoch')\n",
    "pyplot.legend(['train', 'val'], loc='upper left')\n",
    "pyplot.show()"
   ]
  },
  {
   "cell_type": "code",
   "execution_count": 68,
   "id": "059a4a6e-8253-406f-a216-0da04743c981",
   "metadata": {},
   "outputs": [
    {
     "name": "stdout",
     "output_type": "stream",
     "text": [
      "1/1 [==============================] - 0s 14ms/step - loss: 0.1756 - accuracy: 0.9556\n",
      "Test loss: 0.17556701600551605\n",
      "Test accuracy: 0.9555555582046509\n"
     ]
    }
   ],
   "source": [
    "score = model.evaluate(test_dataset, verbose = 1) \n",
    "print('Test loss:', score[0]) \n",
    "print('Test accuracy:', score[1])\n"
   ]
  },
  {
   "cell_type": "code",
   "execution_count": 69,
   "id": "6f78dfc9-5ec6-4801-b78b-baa4183bc9fe",
   "metadata": {},
   "outputs": [
    {
     "name": "stdout",
     "output_type": "stream",
     "text": [
      "X_test_s [[-1.92  0.68  1.   -0.09  0.07 -0.42  0.9   1.63 -0.7   2.12 -2.27 -0.71\n",
      "  -0.51]]\n",
      "original list [0. 1.]\n",
      "original 1.0 Prediction  1\n",
      "Prediction List [[0.12 0.88]]\n"
     ]
    }
   ],
   "source": [
    "np.set_printoptions(precision=2)\n",
    "np.set_printoptions(suppress=True)\n",
    "# what we want is something like test loss, test acc: [0.14795634150505066, 0.9563999772071838]\n",
    "n=1\n",
    "k= X_s[np.newaxis,n,::]\n",
    "print(\"X_test_s\",k)\n",
    "j = y_s[n]\n",
    "print(\"original list\",j)\n",
    "pred = model.predict(k)\n",
    "print(\"original\",j[1],\"Prediction \",np.argmax(pred))\n",
    "print(\"Prediction List\",pred)"
   ]
  },
  {
   "cell_type": "code",
   "execution_count": 70,
   "id": "4c4e156e-390f-4446-bc70-ad2d43b2ba40",
   "metadata": {},
   "outputs": [
    {
     "name": "stdout",
     "output_type": "stream",
     "text": [
      "original 1.0 Prediction  1\n",
      "Prediction List [[0. 1.]]\n",
      "original 0.0 Prediction  0\n",
      "Prediction List [[1. 0.]]\n"
     ]
    }
   ],
   "source": [
    "n=2\n",
    "k= X_s[np.newaxis,n,::]\n",
    "j = y_s[n]\n",
    "pred = model.predict(k)\n",
    "print(\"original\",j[1],\"Prediction \",np.argmax(pred))\n",
    "print(\"Prediction List\",pred)\n",
    "n=300\n",
    "k= X_s[np.newaxis,n,::]\n",
    "j = y_s[n]\n",
    "pred = model.predict(k)\n",
    "print(\"original\",j[1],\"Prediction \",np.argmax(pred))\n",
    "print(\"Prediction List\",pred)"
   ]
  },
  {
   "cell_type": "code",
   "execution_count": null,
   "id": "c886a63b-19ec-43aa-b33f-e7ee2b08629b",
   "metadata": {},
   "outputs": [],
   "source": []
  }
 ],
 "metadata": {
  "kernelspec": {
   "display_name": "Python 3",
   "language": "python",
   "name": "python3"
  },
  "language_info": {
   "codemirror_mode": {
    "name": "ipython",
    "version": 3
   },
   "file_extension": ".py",
   "mimetype": "text/x-python",
   "name": "python",
   "nbconvert_exporter": "python",
   "pygments_lexer": "ipython3",
   "version": "3.8.5"
  }
 },
 "nbformat": 4,
 "nbformat_minor": 5
}
